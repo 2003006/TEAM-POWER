{
  "nbformat": 4,
  "nbformat_minor": 0,
  "metadata": {
    "colab": {
      "name": "TeamPower.ipynb",
      "provenance": [],
      "collapsed_sections": [],
      "toc_visible": true,
      "authorship_tag": "ABX9TyPhz/YRpJ1nOxn3ZgyzhZVm",
      "include_colab_link": true
    },
    "kernelspec": {
      "name": "python3",
      "display_name": "Python 3"
    },
    "language_info": {
      "name": "python"
    },
    "accelerator": "GPU"
  },
  "cells": [
    {
      "cell_type": "markdown",
      "metadata": {
        "id": "view-in-github",
        "colab_type": "text"
      },
      "source": [
        "<a href=\"https://colab.research.google.com/github/2003006/TEAM-POWER/blob/main/TeamPower.ipynb\" target=\"_parent\"><img src=\"https://colab.research.google.com/assets/colab-badge.svg\" alt=\"Open In Colab\"/></a>"
      ]
    },
    {
      "cell_type": "markdown",
      "metadata": {
        "id": "86WNBua43-P3"
      },
      "source": [
        "###1.0 Importing our libraries"
      ]
    },
    {
      "cell_type": "code",
      "metadata": {
        "id": "u_M33hp7fg_h"
      },
      "source": [
        "#import the pandas library\n",
        "import pandas as pd"
      ],
      "execution_count": null,
      "outputs": []
    },
    {
      "cell_type": "code",
      "metadata": {
        "id": "oKr3sDITf5Cv"
      },
      "source": [
        "#import the numpy library\n",
        "import numpy as np"
      ],
      "execution_count": null,
      "outputs": []
    },
    {
      "cell_type": "markdown",
      "metadata": {
        "id": "lJWmcrRy4dlC"
      },
      "source": [
        "###1.1 Loading our dataset."
      ]
    },
    {
      "cell_type": "code",
      "metadata": {
        "id": "3F-aDuWhf7PW"
      },
      "source": [
        "#loading dataset into our environment\n",
        "df = pd.read_csv('/content/wfp_food_prices_kenya.csv')"
      ],
      "execution_count": null,
      "outputs": []
    },
    {
      "cell_type": "code",
      "metadata": {
        "colab": {
          "base_uri": "https://localhost:8080/",
          "height": 141
        },
        "id": "sZVumqongFqf",
        "outputId": "63e53976-247d-48ed-d163-052f01e71817"
      },
      "source": [
        "# priewing 2 rows of our dataset\n",
        "df.head(2)"
      ],
      "execution_count": null,
      "outputs": [
        {
          "output_type": "execute_result",
          "data": {
            "text/html": [
              "<div>\n",
              "<style scoped>\n",
              "    .dataframe tbody tr th:only-of-type {\n",
              "        vertical-align: middle;\n",
              "    }\n",
              "\n",
              "    .dataframe tbody tr th {\n",
              "        vertical-align: top;\n",
              "    }\n",
              "\n",
              "    .dataframe thead th {\n",
              "        text-align: right;\n",
              "    }\n",
              "</style>\n",
              "<table border=\"1\" class=\"dataframe\">\n",
              "  <thead>\n",
              "    <tr style=\"text-align: right;\">\n",
              "      <th></th>\n",
              "      <th>date</th>\n",
              "      <th>cmname</th>\n",
              "      <th>unit</th>\n",
              "      <th>category</th>\n",
              "      <th>price</th>\n",
              "      <th>currency</th>\n",
              "      <th>country</th>\n",
              "      <th>admname</th>\n",
              "      <th>adm1id</th>\n",
              "      <th>mktname</th>\n",
              "      <th>mktid</th>\n",
              "      <th>cmid</th>\n",
              "      <th>ptid</th>\n",
              "      <th>umid</th>\n",
              "      <th>catid</th>\n",
              "      <th>sn</th>\n",
              "      <th>default</th>\n",
              "    </tr>\n",
              "  </thead>\n",
              "  <tbody>\n",
              "    <tr>\n",
              "      <th>0</th>\n",
              "      <td>#date</td>\n",
              "      <td>#item+name</td>\n",
              "      <td>#item+unit</td>\n",
              "      <td>#item+type</td>\n",
              "      <td>#value</td>\n",
              "      <td>#currency</td>\n",
              "      <td>#country+name</td>\n",
              "      <td>#adm1+name</td>\n",
              "      <td>#adm1+code</td>\n",
              "      <td>#name+market</td>\n",
              "      <td>NaN</td>\n",
              "      <td>#item+code</td>\n",
              "      <td>NaN</td>\n",
              "      <td>NaN</td>\n",
              "      <td>#item+type+code</td>\n",
              "      <td>#meta+id</td>\n",
              "      <td>NaN</td>\n",
              "    </tr>\n",
              "    <tr>\n",
              "      <th>1</th>\n",
              "      <td>2006-01-15</td>\n",
              "      <td>Beans - Wholesale</td>\n",
              "      <td>KG</td>\n",
              "      <td>pulses and nuts</td>\n",
              "      <td>33.63</td>\n",
              "      <td>KES</td>\n",
              "      <td>Kenya</td>\n",
              "      <td>Coast</td>\n",
              "      <td>51326</td>\n",
              "      <td>Mombasa</td>\n",
              "      <td>191.0</td>\n",
              "      <td>50</td>\n",
              "      <td>14.0</td>\n",
              "      <td>5.0</td>\n",
              "      <td>5</td>\n",
              "      <td>191_50_14_5</td>\n",
              "      <td>NaN</td>\n",
              "    </tr>\n",
              "  </tbody>\n",
              "</table>\n",
              "</div>"
            ],
            "text/plain": [
              "         date             cmname  ...           sn default\n",
              "0       #date         #item+name  ...     #meta+id     NaN\n",
              "1  2006-01-15  Beans - Wholesale  ...  191_50_14_5     NaN\n",
              "\n",
              "[2 rows x 17 columns]"
            ]
          },
          "metadata": {
            "tags": []
          },
          "execution_count": 4
        }
      ]
    },
    {
      "cell_type": "markdown",
      "metadata": {
        "id": "Vk_f2_ub4-XO"
      },
      "source": [
        "###1.2 Accessing Information about our dataset."
      ]
    },
    {
      "cell_type": "code",
      "metadata": {
        "colab": {
          "base_uri": "https://localhost:8080/"
        },
        "id": "SjGungommqs8",
        "outputId": "49de17b9-4718-4f86-c7d1-e138d02b4c5c"
      },
      "source": [
        "df.info()"
      ],
      "execution_count": null,
      "outputs": [
        {
          "output_type": "stream",
          "text": [
            "<class 'pandas.core.frame.DataFrame'>\n",
            "RangeIndex: 7048 entries, 0 to 7047\n",
            "Data columns (total 17 columns):\n",
            " #   Column    Non-Null Count  Dtype  \n",
            "---  ------    --------------  -----  \n",
            " 0   date      7048 non-null   object \n",
            " 1   cmname    7048 non-null   object \n",
            " 2   unit      7048 non-null   object \n",
            " 3   category  7048 non-null   object \n",
            " 4   price     7048 non-null   object \n",
            " 5   currency  7048 non-null   object \n",
            " 6   country   7048 non-null   object \n",
            " 7   admname   7048 non-null   object \n",
            " 8   adm1id    7048 non-null   object \n",
            " 9   mktname   7048 non-null   object \n",
            " 10  mktid     7047 non-null   float64\n",
            " 11  cmid      7048 non-null   object \n",
            " 12  ptid      7047 non-null   float64\n",
            " 13  umid      7047 non-null   float64\n",
            " 14  catid     7048 non-null   object \n",
            " 15  sn        7048 non-null   object \n",
            " 16  default   0 non-null      float64\n",
            "dtypes: float64(4), object(13)\n",
            "memory usage: 936.2+ KB\n"
          ],
          "name": "stdout"
        }
      ]
    },
    {
      "cell_type": "markdown",
      "metadata": {
        "id": "rSrzh07W-llI"
      },
      "source": [
        "###1.3 Cleaning our dataset.\n"
      ]
    },
    {
      "cell_type": "markdown",
      "metadata": {
        "id": "XwP4ADEm-yKI"
      },
      "source": [
        "####1.3.1 Validity"
      ]
    },
    {
      "cell_type": "markdown",
      "metadata": {
        "id": "VEAf30_DG9BB"
      },
      "source": [
        "######1.3.1.1 Dropping irrelevant columns and row."
      ]
    },
    {
      "cell_type": "code",
      "metadata": {
        "id": "iMJyjQmq-5XV"
      },
      "source": [
        "#Dropping unwanted columns not relevant in analysis\n",
        "dcolumns = ['currency','country','default','umid']\n",
        "df.drop(dcolumns , axis =1, inplace=True)"
      ],
      "execution_count": null,
      "outputs": []
    },
    {
      "cell_type": "code",
      "metadata": {
        "colab": {
          "base_uri": "https://localhost:8080/",
          "height": 105
        },
        "id": "4rwhSdwxAjxF",
        "outputId": "51c04cde-e62a-4f0c-946a-724d6e98f55e"
      },
      "source": [
        "df.head(2)"
      ],
      "execution_count": null,
      "outputs": [
        {
          "output_type": "execute_result",
          "data": {
            "text/html": [
              "<div>\n",
              "<style scoped>\n",
              "    .dataframe tbody tr th:only-of-type {\n",
              "        vertical-align: middle;\n",
              "    }\n",
              "\n",
              "    .dataframe tbody tr th {\n",
              "        vertical-align: top;\n",
              "    }\n",
              "\n",
              "    .dataframe thead th {\n",
              "        text-align: right;\n",
              "    }\n",
              "</style>\n",
              "<table border=\"1\" class=\"dataframe\">\n",
              "  <thead>\n",
              "    <tr style=\"text-align: right;\">\n",
              "      <th></th>\n",
              "      <th>date</th>\n",
              "      <th>cmname</th>\n",
              "      <th>unit</th>\n",
              "      <th>category</th>\n",
              "      <th>price</th>\n",
              "      <th>admname</th>\n",
              "      <th>adm1id</th>\n",
              "      <th>mktname</th>\n",
              "      <th>mktid</th>\n",
              "      <th>cmid</th>\n",
              "      <th>ptid</th>\n",
              "      <th>catid</th>\n",
              "      <th>sn</th>\n",
              "    </tr>\n",
              "  </thead>\n",
              "  <tbody>\n",
              "    <tr>\n",
              "      <th>0</th>\n",
              "      <td>#date</td>\n",
              "      <td>#item+name</td>\n",
              "      <td>#item+unit</td>\n",
              "      <td>#item+type</td>\n",
              "      <td>#value</td>\n",
              "      <td>#adm1+name</td>\n",
              "      <td>#adm1+code</td>\n",
              "      <td>#name+market</td>\n",
              "      <td>NaN</td>\n",
              "      <td>#item+code</td>\n",
              "      <td>NaN</td>\n",
              "      <td>#item+type+code</td>\n",
              "      <td>#meta+id</td>\n",
              "    </tr>\n",
              "    <tr>\n",
              "      <th>1</th>\n",
              "      <td>2006-01-15</td>\n",
              "      <td>Beans - Wholesale</td>\n",
              "      <td>KG</td>\n",
              "      <td>pulses and nuts</td>\n",
              "      <td>33.63</td>\n",
              "      <td>Coast</td>\n",
              "      <td>51326</td>\n",
              "      <td>Mombasa</td>\n",
              "      <td>191.0</td>\n",
              "      <td>50</td>\n",
              "      <td>14.0</td>\n",
              "      <td>5</td>\n",
              "      <td>191_50_14_5</td>\n",
              "    </tr>\n",
              "  </tbody>\n",
              "</table>\n",
              "</div>"
            ],
            "text/plain": [
              "         date             cmname  ...            catid           sn\n",
              "0       #date         #item+name  ...  #item+type+code     #meta+id\n",
              "1  2006-01-15  Beans - Wholesale  ...                5  191_50_14_5\n",
              "\n",
              "[2 rows x 13 columns]"
            ]
          },
          "metadata": {
            "tags": []
          },
          "execution_count": 7
        }
      ]
    },
    {
      "cell_type": "markdown",
      "metadata": {
        "id": "CjTQ2GRIUZ5T"
      },
      "source": [
        "######1.3.1.2 Dropping irrelevant rows"
      ]
    },
    {
      "cell_type": "code",
      "metadata": {
        "id": "jZzZ7e3YBaJ5"
      },
      "source": [
        "#dropping irrelevant rows.\n",
        "df.drop([0], inplace =True)"
      ],
      "execution_count": null,
      "outputs": []
    },
    {
      "cell_type": "code",
      "metadata": {
        "colab": {
          "base_uri": "https://localhost:8080/",
          "height": 76
        },
        "id": "MJVeU1IMCAYF",
        "outputId": "a03ed9a2-2fca-4788-849c-21a409b425c9"
      },
      "source": [
        "df.head(1)"
      ],
      "execution_count": null,
      "outputs": [
        {
          "output_type": "execute_result",
          "data": {
            "text/html": [
              "<div>\n",
              "<style scoped>\n",
              "    .dataframe tbody tr th:only-of-type {\n",
              "        vertical-align: middle;\n",
              "    }\n",
              "\n",
              "    .dataframe tbody tr th {\n",
              "        vertical-align: top;\n",
              "    }\n",
              "\n",
              "    .dataframe thead th {\n",
              "        text-align: right;\n",
              "    }\n",
              "</style>\n",
              "<table border=\"1\" class=\"dataframe\">\n",
              "  <thead>\n",
              "    <tr style=\"text-align: right;\">\n",
              "      <th></th>\n",
              "      <th>date</th>\n",
              "      <th>cmname</th>\n",
              "      <th>unit</th>\n",
              "      <th>category</th>\n",
              "      <th>price</th>\n",
              "      <th>admname</th>\n",
              "      <th>adm1id</th>\n",
              "      <th>mktname</th>\n",
              "      <th>mktid</th>\n",
              "      <th>cmid</th>\n",
              "      <th>ptid</th>\n",
              "      <th>catid</th>\n",
              "      <th>sn</th>\n",
              "    </tr>\n",
              "  </thead>\n",
              "  <tbody>\n",
              "    <tr>\n",
              "      <th>1</th>\n",
              "      <td>2006-01-15</td>\n",
              "      <td>Beans - Wholesale</td>\n",
              "      <td>KG</td>\n",
              "      <td>pulses and nuts</td>\n",
              "      <td>33.63</td>\n",
              "      <td>Coast</td>\n",
              "      <td>51326</td>\n",
              "      <td>Mombasa</td>\n",
              "      <td>191.0</td>\n",
              "      <td>50</td>\n",
              "      <td>14.0</td>\n",
              "      <td>5</td>\n",
              "      <td>191_50_14_5</td>\n",
              "    </tr>\n",
              "  </tbody>\n",
              "</table>\n",
              "</div>"
            ],
            "text/plain": [
              "         date             cmname unit  ...  ptid catid           sn\n",
              "1  2006-01-15  Beans - Wholesale   KG  ...  14.0     5  191_50_14_5\n",
              "\n",
              "[1 rows x 13 columns]"
            ]
          },
          "metadata": {
            "tags": []
          },
          "execution_count": 9
        }
      ]
    },
    {
      "cell_type": "markdown",
      "metadata": {
        "id": "5v40C552OWHz"
      },
      "source": [
        "######1.3.1.3 Counting non-missing values in the dataset"
      ]
    },
    {
      "cell_type": "code",
      "metadata": {
        "colab": {
          "base_uri": "https://localhost:8080/"
        },
        "id": "DI4fzGdmOEfJ",
        "outputId": "24661837-ca5d-420a-e3e8-d13d7bce0a60"
      },
      "source": [
        "#count the non_missing values in the dataset\n",
        "df.count()\n"
      ],
      "execution_count": null,
      "outputs": [
        {
          "output_type": "execute_result",
          "data": {
            "text/plain": [
              "date        7047\n",
              "cmname      7047\n",
              "unit        7047\n",
              "category    7047\n",
              "price       7047\n",
              "admname     7047\n",
              "adm1id      7047\n",
              "mktname     7047\n",
              "mktid       7047\n",
              "cmid        7047\n",
              "ptid        7047\n",
              "catid       7047\n",
              "sn          7047\n",
              "dtype: int64"
            ]
          },
          "metadata": {
            "tags": []
          },
          "execution_count": 10
        }
      ]
    },
    {
      "cell_type": "markdown",
      "metadata": {
        "id": "4dyEDtV7HTh6"
      },
      "source": [
        "######1.3.1.4 Renaming columns"
      ]
    },
    {
      "cell_type": "code",
      "metadata": {
        "colab": {
          "base_uri": "https://localhost:8080/",
          "height": 105
        },
        "id": "_G4Li3DwEnDv",
        "outputId": "6b8a4ab8-2917-4a14-fd60-9a633032bc69"
      },
      "source": [
        "#renaming our columns\n",
        "df.columns =[\n",
        "             'Date',\n",
        "             'Item Name',\n",
        "             'Unit',\n",
        "             'Category',\n",
        "             'Sh Price',\n",
        "             'Regions',\n",
        "             'Region ID',\n",
        "             'Market Name',\n",
        "             'Market ID',\n",
        "             'Item Code',\n",
        "             'Point ID',\n",
        "             'Category ID',\n",
        "             'Serial Number'\n",
        "]\n",
        "df.head(2)"
      ],
      "execution_count": null,
      "outputs": [
        {
          "output_type": "execute_result",
          "data": {
            "text/html": [
              "<div>\n",
              "<style scoped>\n",
              "    .dataframe tbody tr th:only-of-type {\n",
              "        vertical-align: middle;\n",
              "    }\n",
              "\n",
              "    .dataframe tbody tr th {\n",
              "        vertical-align: top;\n",
              "    }\n",
              "\n",
              "    .dataframe thead th {\n",
              "        text-align: right;\n",
              "    }\n",
              "</style>\n",
              "<table border=\"1\" class=\"dataframe\">\n",
              "  <thead>\n",
              "    <tr style=\"text-align: right;\">\n",
              "      <th></th>\n",
              "      <th>Date</th>\n",
              "      <th>Item Name</th>\n",
              "      <th>Unit</th>\n",
              "      <th>Category</th>\n",
              "      <th>Sh Price</th>\n",
              "      <th>Regions</th>\n",
              "      <th>Region ID</th>\n",
              "      <th>Market Name</th>\n",
              "      <th>Market ID</th>\n",
              "      <th>Item Code</th>\n",
              "      <th>Point ID</th>\n",
              "      <th>Category ID</th>\n",
              "      <th>Serial Number</th>\n",
              "    </tr>\n",
              "  </thead>\n",
              "  <tbody>\n",
              "    <tr>\n",
              "      <th>1</th>\n",
              "      <td>2006-01-15</td>\n",
              "      <td>Beans - Wholesale</td>\n",
              "      <td>KG</td>\n",
              "      <td>pulses and nuts</td>\n",
              "      <td>33.63</td>\n",
              "      <td>Coast</td>\n",
              "      <td>51326</td>\n",
              "      <td>Mombasa</td>\n",
              "      <td>191.0</td>\n",
              "      <td>50</td>\n",
              "      <td>14.0</td>\n",
              "      <td>5</td>\n",
              "      <td>191_50_14_5</td>\n",
              "    </tr>\n",
              "    <tr>\n",
              "      <th>2</th>\n",
              "      <td>2006-02-15</td>\n",
              "      <td>Beans - Wholesale</td>\n",
              "      <td>KG</td>\n",
              "      <td>pulses and nuts</td>\n",
              "      <td>39.478</td>\n",
              "      <td>Coast</td>\n",
              "      <td>51326</td>\n",
              "      <td>Mombasa</td>\n",
              "      <td>191.0</td>\n",
              "      <td>50</td>\n",
              "      <td>14.0</td>\n",
              "      <td>5</td>\n",
              "      <td>191_50_14_5</td>\n",
              "    </tr>\n",
              "  </tbody>\n",
              "</table>\n",
              "</div>"
            ],
            "text/plain": [
              "         Date          Item Name Unit  ... Point ID Category ID Serial Number\n",
              "1  2006-01-15  Beans - Wholesale   KG  ...     14.0           5   191_50_14_5\n",
              "2  2006-02-15  Beans - Wholesale   KG  ...     14.0           5   191_50_14_5\n",
              "\n",
              "[2 rows x 13 columns]"
            ]
          },
          "metadata": {
            "tags": []
          },
          "execution_count": 11
        }
      ]
    },
    {
      "cell_type": "code",
      "metadata": {
        "colab": {
          "base_uri": "https://localhost:8080/"
        },
        "id": "83Ru2kzGQwUA",
        "outputId": "73c5c973-74be-4c30-f147-bb7eccc26e95"
      },
      "source": [
        "#checking the shape of our dataset\n",
        "df.shape"
      ],
      "execution_count": null,
      "outputs": [
        {
          "output_type": "execute_result",
          "data": {
            "text/plain": [
              "(7047, 13)"
            ]
          },
          "metadata": {
            "tags": []
          },
          "execution_count": 12
        }
      ]
    },
    {
      "cell_type": "markdown",
      "metadata": {
        "id": "oZ1YfGGqIZVB"
      },
      "source": [
        "####1.3.2 Accuracy"
      ]
    },
    {
      "cell_type": "code",
      "metadata": {
        "colab": {
          "base_uri": "https://localhost:8080/",
          "height": 1000
        },
        "id": "be5YEFYNGqVk",
        "outputId": "1901eeca-5912-41a3-b177-f180ee846510"
      },
      "source": [
        "#df[(df['date'] <  '2021-02-15') & (df['date'] >= '2006-01-15') ].index\n",
        "values = (df['Date'] < '2021-02-15') & (df['Date'] <= '2006-01-15')\n",
        "df.loc[values]\n"
      ],
      "execution_count": null,
      "outputs": [
        {
          "output_type": "execute_result",
          "data": {
            "text/html": [
              "<div>\n",
              "<style scoped>\n",
              "    .dataframe tbody tr th:only-of-type {\n",
              "        vertical-align: middle;\n",
              "    }\n",
              "\n",
              "    .dataframe tbody tr th {\n",
              "        vertical-align: top;\n",
              "    }\n",
              "\n",
              "    .dataframe thead th {\n",
              "        text-align: right;\n",
              "    }\n",
              "</style>\n",
              "<table border=\"1\" class=\"dataframe\">\n",
              "  <thead>\n",
              "    <tr style=\"text-align: right;\">\n",
              "      <th></th>\n",
              "      <th>Date</th>\n",
              "      <th>Item Name</th>\n",
              "      <th>Unit</th>\n",
              "      <th>Category</th>\n",
              "      <th>Sh Price</th>\n",
              "      <th>Regions</th>\n",
              "      <th>Region ID</th>\n",
              "      <th>Market Name</th>\n",
              "      <th>Market ID</th>\n",
              "      <th>Item Code</th>\n",
              "      <th>Point ID</th>\n",
              "      <th>Category ID</th>\n",
              "      <th>Serial Number</th>\n",
              "    </tr>\n",
              "  </thead>\n",
              "  <tbody>\n",
              "    <tr>\n",
              "      <th>1</th>\n",
              "      <td>2006-01-15</td>\n",
              "      <td>Beans - Wholesale</td>\n",
              "      <td>KG</td>\n",
              "      <td>pulses and nuts</td>\n",
              "      <td>33.63</td>\n",
              "      <td>Coast</td>\n",
              "      <td>51326</td>\n",
              "      <td>Mombasa</td>\n",
              "      <td>191.0</td>\n",
              "      <td>50</td>\n",
              "      <td>14.0</td>\n",
              "      <td>5</td>\n",
              "      <td>191_50_14_5</td>\n",
              "    </tr>\n",
              "    <tr>\n",
              "      <th>144</th>\n",
              "      <td>2006-01-15</td>\n",
              "      <td>Maize - Wholesale</td>\n",
              "      <td>KG</td>\n",
              "      <td>cereals and tubers</td>\n",
              "      <td>16.131</td>\n",
              "      <td>Coast</td>\n",
              "      <td>51326</td>\n",
              "      <td>Mombasa</td>\n",
              "      <td>191.0</td>\n",
              "      <td>51</td>\n",
              "      <td>14.0</td>\n",
              "      <td>1</td>\n",
              "      <td>191_51_14_5</td>\n",
              "    </tr>\n",
              "    <tr>\n",
              "      <th>290</th>\n",
              "      <td>2006-01-15</td>\n",
              "      <td>Maize (white) - Wholesale</td>\n",
              "      <td>90 KG</td>\n",
              "      <td>cereals and tubers</td>\n",
              "      <td>1480.0</td>\n",
              "      <td>Coast</td>\n",
              "      <td>51326</td>\n",
              "      <td>Mombasa</td>\n",
              "      <td>191.0</td>\n",
              "      <td>67</td>\n",
              "      <td>14.0</td>\n",
              "      <td>1</td>\n",
              "      <td>191_67_14_17</td>\n",
              "    </tr>\n",
              "    <tr>\n",
              "      <th>460</th>\n",
              "      <td>2006-01-15</td>\n",
              "      <td>Beans (dry) - Wholesale</td>\n",
              "      <td>90 KG</td>\n",
              "      <td>pulses and nuts</td>\n",
              "      <td>3246.0</td>\n",
              "      <td>Coast</td>\n",
              "      <td>51326</td>\n",
              "      <td>Mombasa</td>\n",
              "      <td>191.0</td>\n",
              "      <td>262</td>\n",
              "      <td>14.0</td>\n",
              "      <td>5</td>\n",
              "      <td>191_262_14_17</td>\n",
              "    </tr>\n",
              "    <tr>\n",
              "      <th>876</th>\n",
              "      <td>2006-01-15</td>\n",
              "      <td>Sorghum - Wholesale</td>\n",
              "      <td>90 KG</td>\n",
              "      <td>cereals and tubers</td>\n",
              "      <td>1800.0</td>\n",
              "      <td>Eastern</td>\n",
              "      <td>51327</td>\n",
              "      <td>Kitui</td>\n",
              "      <td>187.0</td>\n",
              "      <td>65</td>\n",
              "      <td>14.0</td>\n",
              "      <td>1</td>\n",
              "      <td>187_65_14_17</td>\n",
              "    </tr>\n",
              "    <tr>\n",
              "      <th>1021</th>\n",
              "      <td>2006-01-15</td>\n",
              "      <td>Maize (white) - Retail</td>\n",
              "      <td>KG</td>\n",
              "      <td>cereals and tubers</td>\n",
              "      <td>17.0</td>\n",
              "      <td>Eastern</td>\n",
              "      <td>51327</td>\n",
              "      <td>Kitui</td>\n",
              "      <td>187.0</td>\n",
              "      <td>67</td>\n",
              "      <td>15.0</td>\n",
              "      <td>1</td>\n",
              "      <td>187_67_15_5</td>\n",
              "    </tr>\n",
              "    <tr>\n",
              "      <th>1201</th>\n",
              "      <td>2006-01-15</td>\n",
              "      <td>Potatoes (Irish) - Wholesale</td>\n",
              "      <td>50 KG</td>\n",
              "      <td>cereals and tubers</td>\n",
              "      <td>1249.992</td>\n",
              "      <td>Eastern</td>\n",
              "      <td>51327</td>\n",
              "      <td>Kitui</td>\n",
              "      <td>187.0</td>\n",
              "      <td>148</td>\n",
              "      <td>14.0</td>\n",
              "      <td>1</td>\n",
              "      <td>187_148_14_22</td>\n",
              "    </tr>\n",
              "    <tr>\n",
              "      <th>1343</th>\n",
              "      <td>2006-01-15</td>\n",
              "      <td>Beans (dry) - Retail</td>\n",
              "      <td>KG</td>\n",
              "      <td>pulses and nuts</td>\n",
              "      <td>39.0</td>\n",
              "      <td>Eastern</td>\n",
              "      <td>51327</td>\n",
              "      <td>Kitui</td>\n",
              "      <td>187.0</td>\n",
              "      <td>262</td>\n",
              "      <td>15.0</td>\n",
              "      <td>5</td>\n",
              "      <td>187_262_15_5</td>\n",
              "    </tr>\n",
              "    <tr>\n",
              "      <th>1523</th>\n",
              "      <td>2006-01-15</td>\n",
              "      <td>Maize (white) - Retail</td>\n",
              "      <td>KG</td>\n",
              "      <td>cereals and tubers</td>\n",
              "      <td>21.0</td>\n",
              "      <td>Eastern</td>\n",
              "      <td>51327</td>\n",
              "      <td>Marsabit</td>\n",
              "      <td>190.0</td>\n",
              "      <td>67</td>\n",
              "      <td>15.0</td>\n",
              "      <td>1</td>\n",
              "      <td>190_67_15_5</td>\n",
              "    </tr>\n",
              "    <tr>\n",
              "      <th>1709</th>\n",
              "      <td>2006-01-15</td>\n",
              "      <td>Beans - Wholesale</td>\n",
              "      <td>KG</td>\n",
              "      <td>pulses and nuts</td>\n",
              "      <td>42.311</td>\n",
              "      <td>Nairobi</td>\n",
              "      <td>51328</td>\n",
              "      <td>Nairobi</td>\n",
              "      <td>184.0</td>\n",
              "      <td>50</td>\n",
              "      <td>14.0</td>\n",
              "      <td>5</td>\n",
              "      <td>184_50_14_5</td>\n",
              "    </tr>\n",
              "    <tr>\n",
              "      <th>1845</th>\n",
              "      <td>2006-01-15</td>\n",
              "      <td>Maize - Wholesale</td>\n",
              "      <td>KG</td>\n",
              "      <td>cereals and tubers</td>\n",
              "      <td>15.483</td>\n",
              "      <td>Nairobi</td>\n",
              "      <td>51328</td>\n",
              "      <td>Nairobi</td>\n",
              "      <td>184.0</td>\n",
              "      <td>51</td>\n",
              "      <td>14.0</td>\n",
              "      <td>1</td>\n",
              "      <td>184_51_14_5</td>\n",
              "    </tr>\n",
              "    <tr>\n",
              "      <th>2023</th>\n",
              "      <td>2006-01-15</td>\n",
              "      <td>Bread - Retail</td>\n",
              "      <td>400 G</td>\n",
              "      <td>cereals and tubers</td>\n",
              "      <td>26.0</td>\n",
              "      <td>Nairobi</td>\n",
              "      <td>51328</td>\n",
              "      <td>Nairobi</td>\n",
              "      <td>184.0</td>\n",
              "      <td>55</td>\n",
              "      <td>15.0</td>\n",
              "      <td>1</td>\n",
              "      <td>184_55_15_24</td>\n",
              "    </tr>\n",
              "    <tr>\n",
              "      <th>2202</th>\n",
              "      <td>2006-01-15</td>\n",
              "      <td>Sorghum - Wholesale</td>\n",
              "      <td>90 KG</td>\n",
              "      <td>cereals and tubers</td>\n",
              "      <td>1960.0</td>\n",
              "      <td>Nairobi</td>\n",
              "      <td>51328</td>\n",
              "      <td>Nairobi</td>\n",
              "      <td>184.0</td>\n",
              "      <td>65</td>\n",
              "      <td>14.0</td>\n",
              "      <td>1</td>\n",
              "      <td>184_65_14_17</td>\n",
              "    </tr>\n",
              "    <tr>\n",
              "      <th>2372</th>\n",
              "      <td>2006-01-15</td>\n",
              "      <td>Maize (white) - Wholesale</td>\n",
              "      <td>90 KG</td>\n",
              "      <td>cereals and tubers</td>\n",
              "      <td>1399.0</td>\n",
              "      <td>Nairobi</td>\n",
              "      <td>51328</td>\n",
              "      <td>Nairobi</td>\n",
              "      <td>184.0</td>\n",
              "      <td>67</td>\n",
              "      <td>14.0</td>\n",
              "      <td>1</td>\n",
              "      <td>184_67_14_17</td>\n",
              "    </tr>\n",
              "    <tr>\n",
              "      <th>2543</th>\n",
              "      <td>2006-01-15</td>\n",
              "      <td>Oil (vegetable) - Retail</td>\n",
              "      <td>L</td>\n",
              "      <td>oil and fats</td>\n",
              "      <td>115.0</td>\n",
              "      <td>Nairobi</td>\n",
              "      <td>51328</td>\n",
              "      <td>Nairobi</td>\n",
              "      <td>184.0</td>\n",
              "      <td>96</td>\n",
              "      <td>15.0</td>\n",
              "      <td>6</td>\n",
              "      <td>184_96_15_15</td>\n",
              "    </tr>\n",
              "    <tr>\n",
              "      <th>2725</th>\n",
              "      <td>2006-01-15</td>\n",
              "      <td>Potatoes (Irish) - Wholesale</td>\n",
              "      <td>50 KG</td>\n",
              "      <td>cereals and tubers</td>\n",
              "      <td>664.434</td>\n",
              "      <td>Nairobi</td>\n",
              "      <td>51328</td>\n",
              "      <td>Nairobi</td>\n",
              "      <td>184.0</td>\n",
              "      <td>148</td>\n",
              "      <td>14.0</td>\n",
              "      <td>1</td>\n",
              "      <td>184_148_14_22</td>\n",
              "    </tr>\n",
              "    <tr>\n",
              "      <th>2897</th>\n",
              "      <td>2006-01-15</td>\n",
              "      <td>Beans (dry) - Wholesale</td>\n",
              "      <td>90 KG</td>\n",
              "      <td>pulses and nuts</td>\n",
              "      <td>3175.0</td>\n",
              "      <td>Nairobi</td>\n",
              "      <td>51328</td>\n",
              "      <td>Nairobi</td>\n",
              "      <td>184.0</td>\n",
              "      <td>262</td>\n",
              "      <td>14.0</td>\n",
              "      <td>5</td>\n",
              "      <td>184_262_14_17</td>\n",
              "    </tr>\n",
              "    <tr>\n",
              "      <th>3270</th>\n",
              "      <td>2006-01-15</td>\n",
              "      <td>Milk (cow, pasteurized) - Retail</td>\n",
              "      <td>500 ML</td>\n",
              "      <td>milk and dairy</td>\n",
              "      <td>22.0</td>\n",
              "      <td>Nairobi</td>\n",
              "      <td>51328</td>\n",
              "      <td>Nairobi</td>\n",
              "      <td>184.0</td>\n",
              "      <td>472</td>\n",
              "      <td>15.0</td>\n",
              "      <td>3</td>\n",
              "      <td>184_472_15_25</td>\n",
              "    </tr>\n",
              "    <tr>\n",
              "      <th>3613</th>\n",
              "      <td>2006-01-15</td>\n",
              "      <td>Maize (white) - Retail</td>\n",
              "      <td>KG</td>\n",
              "      <td>cereals and tubers</td>\n",
              "      <td>30.0</td>\n",
              "      <td>North Eastern</td>\n",
              "      <td>51329</td>\n",
              "      <td>Mandera</td>\n",
              "      <td>189.0</td>\n",
              "      <td>67</td>\n",
              "      <td>15.0</td>\n",
              "      <td>1</td>\n",
              "      <td>189_67_15_5</td>\n",
              "    </tr>\n",
              "    <tr>\n",
              "      <th>3906</th>\n",
              "      <td>2006-01-15</td>\n",
              "      <td>Beans - Wholesale</td>\n",
              "      <td>KG</td>\n",
              "      <td>pulses and nuts</td>\n",
              "      <td>39.608</td>\n",
              "      <td>Nyanza</td>\n",
              "      <td>51330</td>\n",
              "      <td>Kisumu</td>\n",
              "      <td>186.0</td>\n",
              "      <td>50</td>\n",
              "      <td>14.0</td>\n",
              "      <td>5</td>\n",
              "      <td>186_50_14_5</td>\n",
              "    </tr>\n",
              "    <tr>\n",
              "      <th>4066</th>\n",
              "      <td>2006-01-15</td>\n",
              "      <td>Maize - Wholesale</td>\n",
              "      <td>KG</td>\n",
              "      <td>cereals and tubers</td>\n",
              "      <td>14.835</td>\n",
              "      <td>Nyanza</td>\n",
              "      <td>51330</td>\n",
              "      <td>Kisumu</td>\n",
              "      <td>186.0</td>\n",
              "      <td>51</td>\n",
              "      <td>14.0</td>\n",
              "      <td>1</td>\n",
              "      <td>186_51_14_5</td>\n",
              "    </tr>\n",
              "    <tr>\n",
              "      <th>4230</th>\n",
              "      <td>2006-01-15</td>\n",
              "      <td>Sorghum - Wholesale</td>\n",
              "      <td>90 KG</td>\n",
              "      <td>cereals and tubers</td>\n",
              "      <td>1600.0</td>\n",
              "      <td>Nyanza</td>\n",
              "      <td>51330</td>\n",
              "      <td>Kisumu</td>\n",
              "      <td>186.0</td>\n",
              "      <td>65</td>\n",
              "      <td>14.0</td>\n",
              "      <td>1</td>\n",
              "      <td>186_65_14_17</td>\n",
              "    </tr>\n",
              "    <tr>\n",
              "      <th>4391</th>\n",
              "      <td>2006-01-15</td>\n",
              "      <td>Maize (white) - Wholesale</td>\n",
              "      <td>90 KG</td>\n",
              "      <td>cereals and tubers</td>\n",
              "      <td>1320.0</td>\n",
              "      <td>Nyanza</td>\n",
              "      <td>51330</td>\n",
              "      <td>Kisumu</td>\n",
              "      <td>186.0</td>\n",
              "      <td>67</td>\n",
              "      <td>14.0</td>\n",
              "      <td>1</td>\n",
              "      <td>186_67_14_17</td>\n",
              "    </tr>\n",
              "    <tr>\n",
              "      <th>4555</th>\n",
              "      <td>2006-01-15</td>\n",
              "      <td>Potatoes (Irish) - Wholesale</td>\n",
              "      <td>50 KG</td>\n",
              "      <td>cereals and tubers</td>\n",
              "      <td>1074.069</td>\n",
              "      <td>Nyanza</td>\n",
              "      <td>51330</td>\n",
              "      <td>Kisumu</td>\n",
              "      <td>186.0</td>\n",
              "      <td>148</td>\n",
              "      <td>14.0</td>\n",
              "      <td>1</td>\n",
              "      <td>186_148_14_22</td>\n",
              "    </tr>\n",
              "    <tr>\n",
              "      <th>4716</th>\n",
              "      <td>2006-01-15</td>\n",
              "      <td>Beans (dry) - Wholesale</td>\n",
              "      <td>90 KG</td>\n",
              "      <td>pulses and nuts</td>\n",
              "      <td>4000.0</td>\n",
              "      <td>Nyanza</td>\n",
              "      <td>51330</td>\n",
              "      <td>Kisumu</td>\n",
              "      <td>186.0</td>\n",
              "      <td>262</td>\n",
              "      <td>14.0</td>\n",
              "      <td>5</td>\n",
              "      <td>186_262_14_17</td>\n",
              "    </tr>\n",
              "    <tr>\n",
              "      <th>4880</th>\n",
              "      <td>2006-01-15</td>\n",
              "      <td>Beans - Wholesale</td>\n",
              "      <td>KG</td>\n",
              "      <td>pulses and nuts</td>\n",
              "      <td>45.854</td>\n",
              "      <td>Rift Valley</td>\n",
              "      <td>51331</td>\n",
              "      <td>Eldoret</td>\n",
              "      <td>185.0</td>\n",
              "      <td>50</td>\n",
              "      <td>14.0</td>\n",
              "      <td>5</td>\n",
              "      <td>185_50_14_5</td>\n",
              "    </tr>\n",
              "    <tr>\n",
              "      <th>5036</th>\n",
              "      <td>2006-01-15</td>\n",
              "      <td>Maize - Wholesale</td>\n",
              "      <td>KG</td>\n",
              "      <td>cereals and tubers</td>\n",
              "      <td>12.963</td>\n",
              "      <td>Rift Valley</td>\n",
              "      <td>51331</td>\n",
              "      <td>Eldoret</td>\n",
              "      <td>185.0</td>\n",
              "      <td>51</td>\n",
              "      <td>14.0</td>\n",
              "      <td>1</td>\n",
              "      <td>185_51_14_5</td>\n",
              "    </tr>\n",
              "    <tr>\n",
              "      <th>5377</th>\n",
              "      <td>2006-01-15</td>\n",
              "      <td>Maize (white) - Wholesale</td>\n",
              "      <td>90 KG</td>\n",
              "      <td>cereals and tubers</td>\n",
              "      <td>1192.0</td>\n",
              "      <td>Rift Valley</td>\n",
              "      <td>51331</td>\n",
              "      <td>Eldoret</td>\n",
              "      <td>185.0</td>\n",
              "      <td>67</td>\n",
              "      <td>14.0</td>\n",
              "      <td>1</td>\n",
              "      <td>185_67_14_17</td>\n",
              "    </tr>\n",
              "    <tr>\n",
              "      <th>5715</th>\n",
              "      <td>2006-01-15</td>\n",
              "      <td>Beans (dry) - Wholesale</td>\n",
              "      <td>90 KG</td>\n",
              "      <td>pulses and nuts</td>\n",
              "      <td>2799.0</td>\n",
              "      <td>Rift Valley</td>\n",
              "      <td>51331</td>\n",
              "      <td>Eldoret</td>\n",
              "      <td>185.0</td>\n",
              "      <td>262</td>\n",
              "      <td>14.0</td>\n",
              "      <td>5</td>\n",
              "      <td>185_262_14_17</td>\n",
              "    </tr>\n",
              "    <tr>\n",
              "      <th>5885</th>\n",
              "      <td>2006-01-15</td>\n",
              "      <td>Maize (white) - Retail</td>\n",
              "      <td>KG</td>\n",
              "      <td>cereals and tubers</td>\n",
              "      <td>26.0</td>\n",
              "      <td>Rift Valley</td>\n",
              "      <td>51331</td>\n",
              "      <td>Lodwar (Turkana)</td>\n",
              "      <td>188.0</td>\n",
              "      <td>67</td>\n",
              "      <td>15.0</td>\n",
              "      <td>1</td>\n",
              "      <td>188_67_15_5</td>\n",
              "    </tr>\n",
              "  </tbody>\n",
              "</table>\n",
              "</div>"
            ],
            "text/plain": [
              "            Date                         Item Name  ... Category ID  Serial Number\n",
              "1     2006-01-15                 Beans - Wholesale  ...           5    191_50_14_5\n",
              "144   2006-01-15                 Maize - Wholesale  ...           1    191_51_14_5\n",
              "290   2006-01-15         Maize (white) - Wholesale  ...           1   191_67_14_17\n",
              "460   2006-01-15           Beans (dry) - Wholesale  ...           5  191_262_14_17\n",
              "876   2006-01-15               Sorghum - Wholesale  ...           1   187_65_14_17\n",
              "1021  2006-01-15            Maize (white) - Retail  ...           1    187_67_15_5\n",
              "1201  2006-01-15      Potatoes (Irish) - Wholesale  ...           1  187_148_14_22\n",
              "1343  2006-01-15              Beans (dry) - Retail  ...           5   187_262_15_5\n",
              "1523  2006-01-15            Maize (white) - Retail  ...           1    190_67_15_5\n",
              "1709  2006-01-15                 Beans - Wholesale  ...           5    184_50_14_5\n",
              "1845  2006-01-15                 Maize - Wholesale  ...           1    184_51_14_5\n",
              "2023  2006-01-15                    Bread - Retail  ...           1   184_55_15_24\n",
              "2202  2006-01-15               Sorghum - Wholesale  ...           1   184_65_14_17\n",
              "2372  2006-01-15         Maize (white) - Wholesale  ...           1   184_67_14_17\n",
              "2543  2006-01-15          Oil (vegetable) - Retail  ...           6   184_96_15_15\n",
              "2725  2006-01-15      Potatoes (Irish) - Wholesale  ...           1  184_148_14_22\n",
              "2897  2006-01-15           Beans (dry) - Wholesale  ...           5  184_262_14_17\n",
              "3270  2006-01-15  Milk (cow, pasteurized) - Retail  ...           3  184_472_15_25\n",
              "3613  2006-01-15            Maize (white) - Retail  ...           1    189_67_15_5\n",
              "3906  2006-01-15                 Beans - Wholesale  ...           5    186_50_14_5\n",
              "4066  2006-01-15                 Maize - Wholesale  ...           1    186_51_14_5\n",
              "4230  2006-01-15               Sorghum - Wholesale  ...           1   186_65_14_17\n",
              "4391  2006-01-15         Maize (white) - Wholesale  ...           1   186_67_14_17\n",
              "4555  2006-01-15      Potatoes (Irish) - Wholesale  ...           1  186_148_14_22\n",
              "4716  2006-01-15           Beans (dry) - Wholesale  ...           5  186_262_14_17\n",
              "4880  2006-01-15                 Beans - Wholesale  ...           5    185_50_14_5\n",
              "5036  2006-01-15                 Maize - Wholesale  ...           1    185_51_14_5\n",
              "5377  2006-01-15         Maize (white) - Wholesale  ...           1   185_67_14_17\n",
              "5715  2006-01-15           Beans (dry) - Wholesale  ...           5  185_262_14_17\n",
              "5885  2006-01-15            Maize (white) - Retail  ...           1    188_67_15_5\n",
              "\n",
              "[30 rows x 13 columns]"
            ]
          },
          "metadata": {
            "tags": []
          },
          "execution_count": 14
        }
      ]
    },
    {
      "cell_type": "code",
      "metadata": {
        "colab": {
          "base_uri": "https://localhost:8080/"
        },
        "id": "DNRU1uwWU1ay",
        "outputId": "a2469de4-2bfd-4bdf-de35-b56507533f0d"
      },
      "source": [
        "df.shape"
      ],
      "execution_count": null,
      "outputs": [
        {
          "output_type": "execute_result",
          "data": {
            "text/plain": [
              "(7047, 13)"
            ]
          },
          "metadata": {
            "tags": []
          },
          "execution_count": 15
        }
      ]
    },
    {
      "cell_type": "markdown",
      "metadata": {
        "id": "JgQY0QXlJNFO"
      },
      "source": [
        "####1.3.3 Completeness"
      ]
    },
    {
      "cell_type": "code",
      "metadata": {
        "colab": {
          "base_uri": "https://localhost:8080/"
        },
        "id": "V4Alwex5JWaj",
        "outputId": "d41c79cd-7533-4822-8904-e70b74995a9b"
      },
      "source": [
        "#checking for null values in the dataset(df)\n",
        "df.isnull().sum()\n",
        "# there were no null values in the dataset(df)"
      ],
      "execution_count": null,
      "outputs": [
        {
          "output_type": "execute_result",
          "data": {
            "text/plain": [
              "Date             0\n",
              "Item Name        0\n",
              "Unit             0\n",
              "Category         0\n",
              "Sh Price         0\n",
              "Regions          0\n",
              "Region ID        0\n",
              "Market Name      0\n",
              "Market ID        0\n",
              "Item Code        0\n",
              "Point ID         0\n",
              "Category ID      0\n",
              "Serial Number    0\n",
              "dtype: int64"
            ]
          },
          "metadata": {
            "tags": []
          },
          "execution_count": 16
        }
      ]
    },
    {
      "cell_type": "markdown",
      "metadata": {
        "id": "VeJBq1X0KJyk"
      },
      "source": [
        "####1.3.4 Consistency"
      ]
    },
    {
      "cell_type": "code",
      "metadata": {
        "colab": {
          "base_uri": "https://localhost:8080/"
        },
        "id": "NK1SZox5KUgz",
        "outputId": "314ff1da-c116-4f85-b886-ca814016fb11"
      },
      "source": [
        "#Checking for duplicates values\n",
        "df.duplicated().sum()\n",
        "#There were no duplicated values found."
      ],
      "execution_count": null,
      "outputs": [
        {
          "output_type": "execute_result",
          "data": {
            "text/plain": [
              "0"
            ]
          },
          "metadata": {
            "tags": []
          },
          "execution_count": 17
        }
      ]
    },
    {
      "cell_type": "markdown",
      "metadata": {
        "id": "AK2MKoZ5K2Wf"
      },
      "source": [
        "####1.3.5 Uniformity"
      ]
    },
    {
      "cell_type": "markdown",
      "metadata": {
        "id": "tVSQrq8GMTBQ"
      },
      "source": [
        "######1.3.5.1 Changing columns to lowercase and removing whitespaces"
      ]
    },
    {
      "cell_type": "code",
      "metadata": {
        "id": "kWH_ybnvKgjl"
      },
      "source": [
        "#checking for whitespaces in the dataset\n",
        "df.columns = df.columns.str.strip().str.lower().str.replace(' ', '_').str.replace('(', '').str.replace(')', '')"
      ],
      "execution_count": null,
      "outputs": []
    },
    {
      "cell_type": "code",
      "metadata": {
        "colab": {
          "base_uri": "https://localhost:8080/",
          "height": 105
        },
        "id": "quhZCIVGMCeK",
        "outputId": "a4b62c19-05ab-4ec6-d58f-89a043734345"
      },
      "source": [
        "df.head(2)"
      ],
      "execution_count": null,
      "outputs": [
        {
          "output_type": "execute_result",
          "data": {
            "text/html": [
              "<div>\n",
              "<style scoped>\n",
              "    .dataframe tbody tr th:only-of-type {\n",
              "        vertical-align: middle;\n",
              "    }\n",
              "\n",
              "    .dataframe tbody tr th {\n",
              "        vertical-align: top;\n",
              "    }\n",
              "\n",
              "    .dataframe thead th {\n",
              "        text-align: right;\n",
              "    }\n",
              "</style>\n",
              "<table border=\"1\" class=\"dataframe\">\n",
              "  <thead>\n",
              "    <tr style=\"text-align: right;\">\n",
              "      <th></th>\n",
              "      <th>date</th>\n",
              "      <th>item_name</th>\n",
              "      <th>unit</th>\n",
              "      <th>category</th>\n",
              "      <th>sh_price</th>\n",
              "      <th>regions</th>\n",
              "      <th>region_id</th>\n",
              "      <th>market_name</th>\n",
              "      <th>market_id</th>\n",
              "      <th>item_code</th>\n",
              "      <th>point_id</th>\n",
              "      <th>category_id</th>\n",
              "      <th>serial_number</th>\n",
              "    </tr>\n",
              "  </thead>\n",
              "  <tbody>\n",
              "    <tr>\n",
              "      <th>1</th>\n",
              "      <td>2006-01-15</td>\n",
              "      <td>Beans - Wholesale</td>\n",
              "      <td>KG</td>\n",
              "      <td>pulses and nuts</td>\n",
              "      <td>33.63</td>\n",
              "      <td>Coast</td>\n",
              "      <td>51326</td>\n",
              "      <td>Mombasa</td>\n",
              "      <td>191.0</td>\n",
              "      <td>50</td>\n",
              "      <td>14.0</td>\n",
              "      <td>5</td>\n",
              "      <td>191_50_14_5</td>\n",
              "    </tr>\n",
              "    <tr>\n",
              "      <th>2</th>\n",
              "      <td>2006-02-15</td>\n",
              "      <td>Beans - Wholesale</td>\n",
              "      <td>KG</td>\n",
              "      <td>pulses and nuts</td>\n",
              "      <td>39.478</td>\n",
              "      <td>Coast</td>\n",
              "      <td>51326</td>\n",
              "      <td>Mombasa</td>\n",
              "      <td>191.0</td>\n",
              "      <td>50</td>\n",
              "      <td>14.0</td>\n",
              "      <td>5</td>\n",
              "      <td>191_50_14_5</td>\n",
              "    </tr>\n",
              "  </tbody>\n",
              "</table>\n",
              "</div>"
            ],
            "text/plain": [
              "         date          item_name unit  ... point_id category_id serial_number\n",
              "1  2006-01-15  Beans - Wholesale   KG  ...     14.0           5   191_50_14_5\n",
              "2  2006-02-15  Beans - Wholesale   KG  ...     14.0           5   191_50_14_5\n",
              "\n",
              "[2 rows x 13 columns]"
            ]
          },
          "metadata": {
            "tags": []
          },
          "execution_count": 19
        }
      ]
    },
    {
      "cell_type": "code",
      "metadata": {
        "id": "4yF4A9KfM7_-"
      },
      "source": [
        " df['sh_price']=df.sh_price.astype(float)"
      ],
      "execution_count": null,
      "outputs": []
    },
    {
      "cell_type": "code",
      "metadata": {
        "colab": {
          "base_uri": "https://localhost:8080/"
        },
        "id": "77W9bnisOTGy",
        "outputId": "06d5288a-a637-4a3d-9c01-0251606e5c28"
      },
      "source": [
        "df.info()"
      ],
      "execution_count": null,
      "outputs": [
        {
          "output_type": "stream",
          "text": [
            "<class 'pandas.core.frame.DataFrame'>\n",
            "Int64Index: 7047 entries, 1 to 7047\n",
            "Data columns (total 13 columns):\n",
            " #   Column         Non-Null Count  Dtype  \n",
            "---  ------         --------------  -----  \n",
            " 0   date           7047 non-null   object \n",
            " 1   item_name      7047 non-null   object \n",
            " 2   unit           7047 non-null   object \n",
            " 3   category       7047 non-null   object \n",
            " 4   sh_price       7047 non-null   float64\n",
            " 5   regions        7047 non-null   object \n",
            " 6   region_id      7047 non-null   object \n",
            " 7   market_name    7047 non-null   object \n",
            " 8   market_id      7047 non-null   float64\n",
            " 9   item_code      7047 non-null   object \n",
            " 10  point_id       7047 non-null   float64\n",
            " 11  category_id    7047 non-null   object \n",
            " 12  serial_number  7047 non-null   object \n",
            "dtypes: float64(3), object(10)\n",
            "memory usage: 770.8+ KB\n"
          ],
          "name": "stdout"
        }
      ]
    },
    {
      "cell_type": "markdown",
      "metadata": {
        "id": "is9yfZGIVc_3"
      },
      "source": [
        "###1.4Exporting the cleaned dataframe"
      ]
    },
    {
      "cell_type": "code",
      "metadata": {
        "id": "l4wSffUoPP34"
      },
      "source": [
        "df.to_csv('Kenya_Food_Prices.csv')"
      ],
      "execution_count": null,
      "outputs": []
    },
    {
      "cell_type": "markdown",
      "metadata": {
        "id": "Ex0AuC9sWp3X"
      },
      "source": [
        "###1.5 Data analysis"
      ]
    },
    {
      "cell_type": "markdown",
      "metadata": {
        "id": "G5EtsejD53k4"
      },
      "source": [
        "####1)Average food prices per category from march 2020- feb 2021"
      ]
    },
    {
      "cell_type": "code",
      "metadata": {
        "colab": {
          "base_uri": "https://localhost:8080/",
          "height": 306
        },
        "id": "AhwG2xOPEPKX",
        "outputId": "eb3690ed-0df6-49c2-ecc3-5797a27576d5"
      },
      "source": [
        "df.loc[(df['date'] <= '2021-02-01') & (df['date'] >= '2020-03-01'), ['category','sh_price']].groupby('category').mean()\n"
      ],
      "execution_count": null,
      "outputs": [
        {
          "output_type": "execute_result",
          "data": {
            "text/html": [
              "<div>\n",
              "<style scoped>\n",
              "    .dataframe tbody tr th:only-of-type {\n",
              "        vertical-align: middle;\n",
              "    }\n",
              "\n",
              "    .dataframe tbody tr th {\n",
              "        vertical-align: top;\n",
              "    }\n",
              "\n",
              "    .dataframe thead th {\n",
              "        text-align: right;\n",
              "    }\n",
              "</style>\n",
              "<table border=\"1\" class=\"dataframe\">\n",
              "  <thead>\n",
              "    <tr style=\"text-align: right;\">\n",
              "      <th></th>\n",
              "      <th>sh_price</th>\n",
              "    </tr>\n",
              "    <tr>\n",
              "      <th>category</th>\n",
              "      <th></th>\n",
              "    </tr>\n",
              "  </thead>\n",
              "  <tbody>\n",
              "    <tr>\n",
              "      <th>cereals and tubers</th>\n",
              "      <td>249.004088</td>\n",
              "    </tr>\n",
              "    <tr>\n",
              "      <th>meat, fish and eggs</th>\n",
              "      <td>470.763883</td>\n",
              "    </tr>\n",
              "    <tr>\n",
              "      <th>milk and dairy</th>\n",
              "      <td>51.324762</td>\n",
              "    </tr>\n",
              "    <tr>\n",
              "      <th>miscellaneous food</th>\n",
              "      <td>61.449996</td>\n",
              "    </tr>\n",
              "    <tr>\n",
              "      <th>non-food</th>\n",
              "      <td>88.808000</td>\n",
              "    </tr>\n",
              "    <tr>\n",
              "      <th>oil and fats</th>\n",
              "      <td>163.108497</td>\n",
              "    </tr>\n",
              "    <tr>\n",
              "      <th>pulses and nuts</th>\n",
              "      <td>724.588136</td>\n",
              "    </tr>\n",
              "    <tr>\n",
              "      <th>vegetables and fruits</th>\n",
              "      <td>33.671568</td>\n",
              "    </tr>\n",
              "  </tbody>\n",
              "</table>\n",
              "</div>"
            ],
            "text/plain": [
              "                         sh_price\n",
              "category                         \n",
              "cereals and tubers     249.004088\n",
              "meat, fish and eggs    470.763883\n",
              "milk and dairy          51.324762\n",
              "miscellaneous food      61.449996\n",
              "non-food                88.808000\n",
              "oil and fats           163.108497\n",
              "pulses and nuts        724.588136\n",
              "vegetables and fruits   33.671568"
            ]
          },
          "metadata": {
            "tags": []
          },
          "execution_count": 28
        }
      ]
    },
    {
      "cell_type": "markdown",
      "metadata": {
        "id": "jBk6-3u5E8ul"
      },
      "source": [
        "####2)Average food price per category from 2006-01-15 to 2020-02-29 "
      ]
    },
    {
      "cell_type": "code",
      "metadata": {
        "colab": {
          "base_uri": "https://localhost:8080/",
          "height": 220
        },
        "id": "cuUg5ord6-nT",
        "outputId": "2450ed0c-b6b8-4a8d-97c6-c24213dffd99"
      },
      "source": [
        "df.loc[(df['date'] <= '2020-02-29') & (df['date'] >= '2006-01-15'), ['category','sh_price']].groupby('category').mean()\n"
      ],
      "execution_count": null,
      "outputs": [
        {
          "output_type": "execute_result",
          "data": {
            "text/html": [
              "<div>\n",
              "<style scoped>\n",
              "    .dataframe tbody tr th:only-of-type {\n",
              "        vertical-align: middle;\n",
              "    }\n",
              "\n",
              "    .dataframe tbody tr th {\n",
              "        vertical-align: top;\n",
              "    }\n",
              "\n",
              "    .dataframe thead th {\n",
              "        text-align: right;\n",
              "    }\n",
              "</style>\n",
              "<table border=\"1\" class=\"dataframe\">\n",
              "  <thead>\n",
              "    <tr style=\"text-align: right;\">\n",
              "      <th></th>\n",
              "      <th>sh_price</th>\n",
              "    </tr>\n",
              "    <tr>\n",
              "      <th>category</th>\n",
              "      <th></th>\n",
              "    </tr>\n",
              "  </thead>\n",
              "  <tbody>\n",
              "    <tr>\n",
              "      <th>cereals and tubers</th>\n",
              "      <td>1437.742520</td>\n",
              "    </tr>\n",
              "    <tr>\n",
              "      <th>milk and dairy</th>\n",
              "      <td>36.705179</td>\n",
              "    </tr>\n",
              "    <tr>\n",
              "      <th>non-food</th>\n",
              "      <td>90.257193</td>\n",
              "    </tr>\n",
              "    <tr>\n",
              "      <th>oil and fats</th>\n",
              "      <td>181.658631</td>\n",
              "    </tr>\n",
              "    <tr>\n",
              "      <th>pulses and nuts</th>\n",
              "      <td>2413.261579</td>\n",
              "    </tr>\n",
              "  </tbody>\n",
              "</table>\n",
              "</div>"
            ],
            "text/plain": [
              "                       sh_price\n",
              "category                       \n",
              "cereals and tubers  1437.742520\n",
              "milk and dairy        36.705179\n",
              "non-food              90.257193\n",
              "oil and fats         181.658631\n",
              "pulses and nuts     2413.261579"
            ]
          },
          "metadata": {
            "tags": []
          },
          "execution_count": 29
        }
      ]
    },
    {
      "cell_type": "markdown",
      "metadata": {
        "id": "ZPMHE6IWHPYO"
      },
      "source": [
        "####3.Average food prices per category from 2006-01-15 to 2021-02-15"
      ]
    },
    {
      "cell_type": "code",
      "metadata": {
        "colab": {
          "base_uri": "https://localhost:8080/",
          "height": 306
        },
        "id": "iXxu1c_cDZOY",
        "outputId": "e7682bdf-031c-43b5-bb8f-0c43ca77d8ae"
      },
      "source": [
        "df.loc[(df['date'] <= '2021-02-15') & (df['date'] >= '2006-01-15'), ['category','sh_price']].groupby('category').mean()"
      ],
      "execution_count": null,
      "outputs": [
        {
          "output_type": "execute_result",
          "data": {
            "text/html": [
              "<div>\n",
              "<style scoped>\n",
              "    .dataframe tbody tr th:only-of-type {\n",
              "        vertical-align: middle;\n",
              "    }\n",
              "\n",
              "    .dataframe tbody tr th {\n",
              "        vertical-align: top;\n",
              "    }\n",
              "\n",
              "    .dataframe thead th {\n",
              "        text-align: right;\n",
              "    }\n",
              "</style>\n",
              "<table border=\"1\" class=\"dataframe\">\n",
              "  <thead>\n",
              "    <tr style=\"text-align: right;\">\n",
              "      <th></th>\n",
              "      <th>sh_price</th>\n",
              "    </tr>\n",
              "    <tr>\n",
              "      <th>category</th>\n",
              "      <th></th>\n",
              "    </tr>\n",
              "  </thead>\n",
              "  <tbody>\n",
              "    <tr>\n",
              "      <th>cereals and tubers</th>\n",
              "      <td>1351.778576</td>\n",
              "    </tr>\n",
              "    <tr>\n",
              "      <th>meat, fish and eggs</th>\n",
              "      <td>464.726374</td>\n",
              "    </tr>\n",
              "    <tr>\n",
              "      <th>milk and dairy</th>\n",
              "      <td>42.395182</td>\n",
              "    </tr>\n",
              "    <tr>\n",
              "      <th>miscellaneous food</th>\n",
              "      <td>62.439044</td>\n",
              "    </tr>\n",
              "    <tr>\n",
              "      <th>non-food</th>\n",
              "      <td>90.040896</td>\n",
              "    </tr>\n",
              "    <tr>\n",
              "      <th>oil and fats</th>\n",
              "      <td>179.846270</td>\n",
              "    </tr>\n",
              "    <tr>\n",
              "      <th>pulses and nuts</th>\n",
              "      <td>2340.824949</td>\n",
              "    </tr>\n",
              "    <tr>\n",
              "      <th>vegetables and fruits</th>\n",
              "      <td>30.857101</td>\n",
              "    </tr>\n",
              "  </tbody>\n",
              "</table>\n",
              "</div>"
            ],
            "text/plain": [
              "                          sh_price\n",
              "category                          \n",
              "cereals and tubers     1351.778576\n",
              "meat, fish and eggs     464.726374\n",
              "milk and dairy           42.395182\n",
              "miscellaneous food       62.439044\n",
              "non-food                 90.040896\n",
              "oil and fats            179.846270\n",
              "pulses and nuts        2340.824949\n",
              "vegetables and fruits    30.857101"
            ]
          },
          "metadata": {
            "tags": []
          },
          "execution_count": 30
        }
      ]
    },
    {
      "cell_type": "markdown",
      "metadata": {
        "id": "qeZJ9DmuJBU0"
      },
      "source": [
        "####4)To find food price per category in all regions\n",
        "a)overall"
      ]
    },
    {
      "cell_type": "code",
      "metadata": {
        "colab": {
          "base_uri": "https://localhost:8080/",
          "height": 1000
        },
        "id": "CNsxF9RSJoox",
        "outputId": "c87ccea1-f178-464b-e410-32cbb49aa7c2"
      },
      "source": [
        "df.loc[(df['date'] <= '2021-02-15') & (df['date'] >= '2006-01-15'), ['category','sh_price','regions']].groupby(['category','regions']).mean()"
      ],
      "execution_count": null,
      "outputs": [
        {
          "output_type": "execute_result",
          "data": {
            "text/html": [
              "<div>\n",
              "<style scoped>\n",
              "    .dataframe tbody tr th:only-of-type {\n",
              "        vertical-align: middle;\n",
              "    }\n",
              "\n",
              "    .dataframe tbody tr th {\n",
              "        vertical-align: top;\n",
              "    }\n",
              "\n",
              "    .dataframe thead th {\n",
              "        text-align: right;\n",
              "    }\n",
              "</style>\n",
              "<table border=\"1\" class=\"dataframe\">\n",
              "  <thead>\n",
              "    <tr style=\"text-align: right;\">\n",
              "      <th></th>\n",
              "      <th></th>\n",
              "      <th>sh_price</th>\n",
              "    </tr>\n",
              "    <tr>\n",
              "      <th>category</th>\n",
              "      <th>regions</th>\n",
              "      <th></th>\n",
              "    </tr>\n",
              "  </thead>\n",
              "  <tbody>\n",
              "    <tr>\n",
              "      <th rowspan=\"6\" valign=\"top\">cereals and tubers</th>\n",
              "      <th>Coast</th>\n",
              "      <td>953.032147</td>\n",
              "    </tr>\n",
              "    <tr>\n",
              "      <th>Eastern</th>\n",
              "      <td>1400.781844</td>\n",
              "    </tr>\n",
              "    <tr>\n",
              "      <th>Nairobi</th>\n",
              "      <td>1462.960261</td>\n",
              "    </tr>\n",
              "    <tr>\n",
              "      <th>North Eastern</th>\n",
              "      <td>59.196566</td>\n",
              "    </tr>\n",
              "    <tr>\n",
              "      <th>Nyanza</th>\n",
              "      <td>1973.666468</td>\n",
              "    </tr>\n",
              "    <tr>\n",
              "      <th>Rift Valley</th>\n",
              "      <td>1343.924173</td>\n",
              "    </tr>\n",
              "    <tr>\n",
              "      <th rowspan=\"3\" valign=\"top\">meat, fish and eggs</th>\n",
              "      <th>Nairobi</th>\n",
              "      <td>485.365448</td>\n",
              "    </tr>\n",
              "    <tr>\n",
              "      <th>North Eastern</th>\n",
              "      <td>454.166675</td>\n",
              "    </tr>\n",
              "    <tr>\n",
              "      <th>Rift Valley</th>\n",
              "      <td>441.715682</td>\n",
              "    </tr>\n",
              "    <tr>\n",
              "      <th rowspan=\"5\" valign=\"top\">milk and dairy</th>\n",
              "      <th>Coast</th>\n",
              "      <td>50.000000</td>\n",
              "    </tr>\n",
              "    <tr>\n",
              "      <th>Eastern</th>\n",
              "      <td>78.333333</td>\n",
              "    </tr>\n",
              "    <tr>\n",
              "      <th>Nairobi</th>\n",
              "      <td>38.251646</td>\n",
              "    </tr>\n",
              "    <tr>\n",
              "      <th>North Eastern</th>\n",
              "      <td>83.645825</td>\n",
              "    </tr>\n",
              "    <tr>\n",
              "      <th>Rift Valley</th>\n",
              "      <td>81.169869</td>\n",
              "    </tr>\n",
              "    <tr>\n",
              "      <th rowspan=\"5\" valign=\"top\">miscellaneous food</th>\n",
              "      <th>Coast</th>\n",
              "      <td>62.499983</td>\n",
              "    </tr>\n",
              "    <tr>\n",
              "      <th>Eastern</th>\n",
              "      <td>65.000000</td>\n",
              "    </tr>\n",
              "    <tr>\n",
              "      <th>Nairobi</th>\n",
              "      <td>61.898338</td>\n",
              "    </tr>\n",
              "    <tr>\n",
              "      <th>North Eastern</th>\n",
              "      <td>52.986117</td>\n",
              "    </tr>\n",
              "    <tr>\n",
              "      <th>Rift Valley</th>\n",
              "      <td>64.846154</td>\n",
              "    </tr>\n",
              "    <tr>\n",
              "      <th>non-food</th>\n",
              "      <th>Nairobi</th>\n",
              "      <td>90.040896</td>\n",
              "    </tr>\n",
              "    <tr>\n",
              "      <th rowspan=\"5\" valign=\"top\">oil and fats</th>\n",
              "      <th>Coast</th>\n",
              "      <td>162.499967</td>\n",
              "    </tr>\n",
              "    <tr>\n",
              "      <th>Eastern</th>\n",
              "      <td>210.000000</td>\n",
              "    </tr>\n",
              "    <tr>\n",
              "      <th>Nairobi</th>\n",
              "      <td>178.157038</td>\n",
              "    </tr>\n",
              "    <tr>\n",
              "      <th>North Eastern</th>\n",
              "      <td>190.000000</td>\n",
              "    </tr>\n",
              "    <tr>\n",
              "      <th>Rift Valley</th>\n",
              "      <td>206.116064</td>\n",
              "    </tr>\n",
              "    <tr>\n",
              "      <th rowspan=\"6\" valign=\"top\">pulses and nuts</th>\n",
              "      <th>Coast</th>\n",
              "      <td>2351.521225</td>\n",
              "    </tr>\n",
              "    <tr>\n",
              "      <th>Eastern</th>\n",
              "      <td>70.436685</td>\n",
              "    </tr>\n",
              "    <tr>\n",
              "      <th>Nairobi</th>\n",
              "      <td>3049.170986</td>\n",
              "    </tr>\n",
              "    <tr>\n",
              "      <th>North Eastern</th>\n",
              "      <td>108.194433</td>\n",
              "    </tr>\n",
              "    <tr>\n",
              "      <th>Nyanza</th>\n",
              "      <td>3221.215644</td>\n",
              "    </tr>\n",
              "    <tr>\n",
              "      <th>Rift Valley</th>\n",
              "      <td>2197.995149</td>\n",
              "    </tr>\n",
              "    <tr>\n",
              "      <th rowspan=\"5\" valign=\"top\">vegetables and fruits</th>\n",
              "      <th>Coast</th>\n",
              "      <td>24.444444</td>\n",
              "    </tr>\n",
              "    <tr>\n",
              "      <th>Eastern</th>\n",
              "      <td>22.833333</td>\n",
              "    </tr>\n",
              "    <tr>\n",
              "      <th>Nairobi</th>\n",
              "      <td>17.416563</td>\n",
              "    </tr>\n",
              "    <tr>\n",
              "      <th>North Eastern</th>\n",
              "      <td>64.583325</td>\n",
              "    </tr>\n",
              "    <tr>\n",
              "      <th>Rift Valley</th>\n",
              "      <td>38.827159</td>\n",
              "    </tr>\n",
              "  </tbody>\n",
              "</table>\n",
              "</div>"
            ],
            "text/plain": [
              "                                        sh_price\n",
              "category              regions                   \n",
              "cereals and tubers    Coast           953.032147\n",
              "                      Eastern        1400.781844\n",
              "                      Nairobi        1462.960261\n",
              "                      North Eastern    59.196566\n",
              "                      Nyanza         1973.666468\n",
              "                      Rift Valley    1343.924173\n",
              "meat, fish and eggs   Nairobi         485.365448\n",
              "                      North Eastern   454.166675\n",
              "                      Rift Valley     441.715682\n",
              "milk and dairy        Coast            50.000000\n",
              "                      Eastern          78.333333\n",
              "                      Nairobi          38.251646\n",
              "                      North Eastern    83.645825\n",
              "                      Rift Valley      81.169869\n",
              "miscellaneous food    Coast            62.499983\n",
              "                      Eastern          65.000000\n",
              "                      Nairobi          61.898338\n",
              "                      North Eastern    52.986117\n",
              "                      Rift Valley      64.846154\n",
              "non-food              Nairobi          90.040896\n",
              "oil and fats          Coast           162.499967\n",
              "                      Eastern         210.000000\n",
              "                      Nairobi         178.157038\n",
              "                      North Eastern   190.000000\n",
              "                      Rift Valley     206.116064\n",
              "pulses and nuts       Coast          2351.521225\n",
              "                      Eastern          70.436685\n",
              "                      Nairobi        3049.170986\n",
              "                      North Eastern   108.194433\n",
              "                      Nyanza         3221.215644\n",
              "                      Rift Valley    2197.995149\n",
              "vegetables and fruits Coast            24.444444\n",
              "                      Eastern          22.833333\n",
              "                      Nairobi          17.416563\n",
              "                      North Eastern    64.583325\n",
              "                      Rift Valley      38.827159"
            ]
          },
          "metadata": {
            "tags": []
          },
          "execution_count": 31
        }
      ]
    },
    {
      "cell_type": "markdown",
      "metadata": {
        "id": "8-EQGj9HKvDx"
      },
      "source": [
        "####5)To find food price per category in all regions b) from 2006-01-15 to 2020-feb-29"
      ]
    },
    {
      "cell_type": "code",
      "metadata": {
        "colab": {
          "base_uri": "https://localhost:8080/",
          "height": 478
        },
        "id": "8jFXJMazJ_lY",
        "outputId": "a9b90f41-d1e3-4be1-c1a9-b84c22ea96fb"
      },
      "source": [
        "df.loc[(df['date'] <= '2020-02-29') & (df['date'] >= '2006-01-15'), ['category','sh_price','regions']].groupby(['category','regions']).mean()"
      ],
      "execution_count": null,
      "outputs": [
        {
          "output_type": "execute_result",
          "data": {
            "text/html": [
              "<div>\n",
              "<style scoped>\n",
              "    .dataframe tbody tr th:only-of-type {\n",
              "        vertical-align: middle;\n",
              "    }\n",
              "\n",
              "    .dataframe tbody tr th {\n",
              "        vertical-align: top;\n",
              "    }\n",
              "\n",
              "    .dataframe thead th {\n",
              "        text-align: right;\n",
              "    }\n",
              "</style>\n",
              "<table border=\"1\" class=\"dataframe\">\n",
              "  <thead>\n",
              "    <tr style=\"text-align: right;\">\n",
              "      <th></th>\n",
              "      <th></th>\n",
              "      <th>sh_price</th>\n",
              "    </tr>\n",
              "    <tr>\n",
              "      <th>category</th>\n",
              "      <th>regions</th>\n",
              "      <th></th>\n",
              "    </tr>\n",
              "  </thead>\n",
              "  <tbody>\n",
              "    <tr>\n",
              "      <th rowspan=\"6\" valign=\"top\">cereals and tubers</th>\n",
              "      <th>Coast</th>\n",
              "      <td>1015.222503</td>\n",
              "    </tr>\n",
              "    <tr>\n",
              "      <th>Eastern</th>\n",
              "      <td>1446.127459</td>\n",
              "    </tr>\n",
              "    <tr>\n",
              "      <th>Nairobi</th>\n",
              "      <td>1585.093363</td>\n",
              "    </tr>\n",
              "    <tr>\n",
              "      <th>North Eastern</th>\n",
              "      <td>56.703114</td>\n",
              "    </tr>\n",
              "    <tr>\n",
              "      <th>Nyanza</th>\n",
              "      <td>1976.632380</td>\n",
              "    </tr>\n",
              "    <tr>\n",
              "      <th>Rift Valley</th>\n",
              "      <td>1452.680710</td>\n",
              "    </tr>\n",
              "    <tr>\n",
              "      <th>milk and dairy</th>\n",
              "      <th>Nairobi</th>\n",
              "      <td>36.705179</td>\n",
              "    </tr>\n",
              "    <tr>\n",
              "      <th>non-food</th>\n",
              "      <th>Nairobi</th>\n",
              "      <td>90.257193</td>\n",
              "    </tr>\n",
              "    <tr>\n",
              "      <th>oil and fats</th>\n",
              "      <th>Nairobi</th>\n",
              "      <td>181.658631</td>\n",
              "    </tr>\n",
              "    <tr>\n",
              "      <th rowspan=\"5\" valign=\"top\">pulses and nuts</th>\n",
              "      <th>Coast</th>\n",
              "      <td>2412.627524</td>\n",
              "    </tr>\n",
              "    <tr>\n",
              "      <th>Eastern</th>\n",
              "      <td>69.050235</td>\n",
              "    </tr>\n",
              "    <tr>\n",
              "      <th>Nairobi</th>\n",
              "      <td>3138.316910</td>\n",
              "    </tr>\n",
              "    <tr>\n",
              "      <th>Nyanza</th>\n",
              "      <td>3221.215644</td>\n",
              "    </tr>\n",
              "    <tr>\n",
              "      <th>Rift Valley</th>\n",
              "      <td>2281.854637</td>\n",
              "    </tr>\n",
              "  </tbody>\n",
              "</table>\n",
              "</div>"
            ],
            "text/plain": [
              "                                     sh_price\n",
              "category           regions                   \n",
              "cereals and tubers Coast          1015.222503\n",
              "                   Eastern        1446.127459\n",
              "                   Nairobi        1585.093363\n",
              "                   North Eastern    56.703114\n",
              "                   Nyanza         1976.632380\n",
              "                   Rift Valley    1452.680710\n",
              "milk and dairy     Nairobi          36.705179\n",
              "non-food           Nairobi          90.257193\n",
              "oil and fats       Nairobi         181.658631\n",
              "pulses and nuts    Coast          2412.627524\n",
              "                   Eastern          69.050235\n",
              "                   Nairobi        3138.316910\n",
              "                   Nyanza         3221.215644\n",
              "                   Rift Valley    2281.854637"
            ]
          },
          "metadata": {
            "tags": []
          },
          "execution_count": 32
        }
      ]
    },
    {
      "cell_type": "markdown",
      "metadata": {
        "id": "shxVgVoyNAZK"
      },
      "source": [
        "####6)To find food price per category in all regions c) from 2020-03-01 to 2021-feb-15"
      ]
    },
    {
      "cell_type": "code",
      "metadata": {
        "colab": {
          "base_uri": "https://localhost:8080/",
          "height": 1000
        },
        "id": "NCqCIty3NPAL",
        "outputId": "964abca9-502e-4b04-c818-abc57a7bfebb"
      },
      "source": [
        "df.loc[(df['date'] <= '2021-02-15') & (df['date'] >= '2020-03-01'), ['category','sh_price','regions']].groupby(['category','regions']).mean()"
      ],
      "execution_count": null,
      "outputs": [
        {
          "output_type": "execute_result",
          "data": {
            "text/html": [
              "<div>\n",
              "<style scoped>\n",
              "    .dataframe tbody tr th:only-of-type {\n",
              "        vertical-align: middle;\n",
              "    }\n",
              "\n",
              "    .dataframe tbody tr th {\n",
              "        vertical-align: top;\n",
              "    }\n",
              "\n",
              "    .dataframe thead th {\n",
              "        text-align: right;\n",
              "    }\n",
              "</style>\n",
              "<table border=\"1\" class=\"dataframe\">\n",
              "  <thead>\n",
              "    <tr style=\"text-align: right;\">\n",
              "      <th></th>\n",
              "      <th></th>\n",
              "      <th>sh_price</th>\n",
              "    </tr>\n",
              "    <tr>\n",
              "      <th>category</th>\n",
              "      <th>regions</th>\n",
              "      <th></th>\n",
              "    </tr>\n",
              "  </thead>\n",
              "  <tbody>\n",
              "    <tr>\n",
              "      <th rowspan=\"6\" valign=\"top\">cereals and tubers</th>\n",
              "      <th>Coast</th>\n",
              "      <td>135.134736</td>\n",
              "    </tr>\n",
              "    <tr>\n",
              "      <th>Eastern</th>\n",
              "      <td>324.695512</td>\n",
              "    </tr>\n",
              "    <tr>\n",
              "      <th>Nairobi</th>\n",
              "      <td>191.871317</td>\n",
              "    </tr>\n",
              "    <tr>\n",
              "      <th>North Eastern</th>\n",
              "      <td>74.988425</td>\n",
              "    </tr>\n",
              "    <tr>\n",
              "      <th>Nyanza</th>\n",
              "      <td>48.789000</td>\n",
              "    </tr>\n",
              "    <tr>\n",
              "      <th>Rift Valley</th>\n",
              "      <td>202.871984</td>\n",
              "    </tr>\n",
              "    <tr>\n",
              "      <th rowspan=\"3\" valign=\"top\">meat, fish and eggs</th>\n",
              "      <th>Nairobi</th>\n",
              "      <td>485.365448</td>\n",
              "    </tr>\n",
              "    <tr>\n",
              "      <th>North Eastern</th>\n",
              "      <td>454.166675</td>\n",
              "    </tr>\n",
              "    <tr>\n",
              "      <th>Rift Valley</th>\n",
              "      <td>441.715682</td>\n",
              "    </tr>\n",
              "    <tr>\n",
              "      <th rowspan=\"5\" valign=\"top\">milk and dairy</th>\n",
              "      <th>Coast</th>\n",
              "      <td>50.000000</td>\n",
              "    </tr>\n",
              "    <tr>\n",
              "      <th>Eastern</th>\n",
              "      <td>78.333333</td>\n",
              "    </tr>\n",
              "    <tr>\n",
              "      <th>Nairobi</th>\n",
              "      <td>48.643908</td>\n",
              "    </tr>\n",
              "    <tr>\n",
              "      <th>North Eastern</th>\n",
              "      <td>83.645825</td>\n",
              "    </tr>\n",
              "    <tr>\n",
              "      <th>Rift Valley</th>\n",
              "      <td>81.169869</td>\n",
              "    </tr>\n",
              "    <tr>\n",
              "      <th rowspan=\"5\" valign=\"top\">miscellaneous food</th>\n",
              "      <th>Coast</th>\n",
              "      <td>62.499983</td>\n",
              "    </tr>\n",
              "    <tr>\n",
              "      <th>Eastern</th>\n",
              "      <td>65.000000</td>\n",
              "    </tr>\n",
              "    <tr>\n",
              "      <th>Nairobi</th>\n",
              "      <td>61.898338</td>\n",
              "    </tr>\n",
              "    <tr>\n",
              "      <th>North Eastern</th>\n",
              "      <td>52.986117</td>\n",
              "    </tr>\n",
              "    <tr>\n",
              "      <th>Rift Valley</th>\n",
              "      <td>64.846154</td>\n",
              "    </tr>\n",
              "    <tr>\n",
              "      <th>non-food</th>\n",
              "      <th>Nairobi</th>\n",
              "      <td>88.808000</td>\n",
              "    </tr>\n",
              "    <tr>\n",
              "      <th rowspan=\"5\" valign=\"top\">oil and fats</th>\n",
              "      <th>Coast</th>\n",
              "      <td>162.499967</td>\n",
              "    </tr>\n",
              "    <tr>\n",
              "      <th>Eastern</th>\n",
              "      <td>210.000000</td>\n",
              "    </tr>\n",
              "    <tr>\n",
              "      <th>Nairobi</th>\n",
              "      <td>158.548120</td>\n",
              "    </tr>\n",
              "    <tr>\n",
              "      <th>North Eastern</th>\n",
              "      <td>190.000000</td>\n",
              "    </tr>\n",
              "    <tr>\n",
              "      <th>Rift Valley</th>\n",
              "      <td>206.116064</td>\n",
              "    </tr>\n",
              "    <tr>\n",
              "      <th rowspan=\"5\" valign=\"top\">pulses and nuts</th>\n",
              "      <th>Coast</th>\n",
              "      <td>736.569043</td>\n",
              "    </tr>\n",
              "    <tr>\n",
              "      <th>Eastern</th>\n",
              "      <td>91.863636</td>\n",
              "    </tr>\n",
              "    <tr>\n",
              "      <th>Nairobi</th>\n",
              "      <td>790.807583</td>\n",
              "    </tr>\n",
              "    <tr>\n",
              "      <th>North Eastern</th>\n",
              "      <td>108.194433</td>\n",
              "    </tr>\n",
              "    <tr>\n",
              "      <th>Rift Valley</th>\n",
              "      <td>631.795882</td>\n",
              "    </tr>\n",
              "    <tr>\n",
              "      <th rowspan=\"5\" valign=\"top\">vegetables and fruits</th>\n",
              "      <th>Coast</th>\n",
              "      <td>24.444444</td>\n",
              "    </tr>\n",
              "    <tr>\n",
              "      <th>Eastern</th>\n",
              "      <td>22.833333</td>\n",
              "    </tr>\n",
              "    <tr>\n",
              "      <th>Nairobi</th>\n",
              "      <td>17.416563</td>\n",
              "    </tr>\n",
              "    <tr>\n",
              "      <th>North Eastern</th>\n",
              "      <td>64.583325</td>\n",
              "    </tr>\n",
              "    <tr>\n",
              "      <th>Rift Valley</th>\n",
              "      <td>38.827159</td>\n",
              "    </tr>\n",
              "  </tbody>\n",
              "</table>\n",
              "</div>"
            ],
            "text/plain": [
              "                                       sh_price\n",
              "category              regions                  \n",
              "cereals and tubers    Coast          135.134736\n",
              "                      Eastern        324.695512\n",
              "                      Nairobi        191.871317\n",
              "                      North Eastern   74.988425\n",
              "                      Nyanza          48.789000\n",
              "                      Rift Valley    202.871984\n",
              "meat, fish and eggs   Nairobi        485.365448\n",
              "                      North Eastern  454.166675\n",
              "                      Rift Valley    441.715682\n",
              "milk and dairy        Coast           50.000000\n",
              "                      Eastern         78.333333\n",
              "                      Nairobi         48.643908\n",
              "                      North Eastern   83.645825\n",
              "                      Rift Valley     81.169869\n",
              "miscellaneous food    Coast           62.499983\n",
              "                      Eastern         65.000000\n",
              "                      Nairobi         61.898338\n",
              "                      North Eastern   52.986117\n",
              "                      Rift Valley     64.846154\n",
              "non-food              Nairobi         88.808000\n",
              "oil and fats          Coast          162.499967\n",
              "                      Eastern        210.000000\n",
              "                      Nairobi        158.548120\n",
              "                      North Eastern  190.000000\n",
              "                      Rift Valley    206.116064\n",
              "pulses and nuts       Coast          736.569043\n",
              "                      Eastern         91.863636\n",
              "                      Nairobi        790.807583\n",
              "                      North Eastern  108.194433\n",
              "                      Rift Valley    631.795882\n",
              "vegetables and fruits Coast           24.444444\n",
              "                      Eastern         22.833333\n",
              "                      Nairobi         17.416563\n",
              "                      North Eastern   64.583325\n",
              "                      Rift Valley     38.827159"
            ]
          },
          "metadata": {
            "tags": []
          },
          "execution_count": 33
        }
      ]
    },
    {
      "cell_type": "markdown",
      "metadata": {
        "id": "bI6k8cZiKEeg"
      },
      "source": [
        "###1.6 Conclusions."
      ]
    },
    {
      "cell_type": "markdown",
      "metadata": {
        "id": "nhUuY9RIKMWG"
      },
      "source": [
        "Average food prices per category from March 1, 2020 to February 15, 2021 (After Covid 19)\n",
        "After Covid 19 pandemic, in March 2020, it was noted that the category with the highest prices were pulses and nuts while vegetables and fruits category were the cheapest.\n",
        "\n",
        "Average food prices per category from January 15, 2006 to February 29, 2020 (Before Covid 19)\n",
        "It was noted that before Covid 19, the prices for nuts and pulses were high. The category of Milk and dairy had lower prices. \n",
        "\n",
        "Average food prices overall (January 15, 2006 to February 15, 2021)\n",
        "Overally, the category of pulses and nuts were expensive and the cheapest category was ‘vegetable and fruits’. \n",
        "\n",
        "Food prices per category in all regions:\n",
        "Overall\n",
        "Analysis done on food prices per category in all regions indicated that the category of cereals and tubers were expensive in Nyanza and cheapest in North Eastern. For the case of meat, fish and eggs  they were cheap in RiftValley region and expensive in Nairobi region. Milk and dairy were expensive in the North Eastern region and cheap in Nairobi. Oil and fats were expensive in Eastern and cheap in Coast. Pulses and nuts were expensive in Nyanza and cheap in Eastern. Vegetables and fruits were expensive in the North Eastern region and cheap in Nairobi.\n",
        "\n",
        "The food price per category in all region from January 15, 2006 to February 29, 2020\n",
        "Cereals and tubers were expensive in Nyanza and cheap in the North Eastern. The prices for milk and dairy were only reported in Nairobi. It was also noted that the prices for oils and fats category were only reported in the Nairobi region. Pulses and nuts were expensive in Nyanza and cheap in Eastern.\n",
        "\n",
        "Food price per category in all regions from March 1, 2020 to February 15, 2021\n",
        "Cereals and tubers were expensive in Eastern, cheap in Nyanza. Meat, fish and eggs were cheap in RiftValley and expensive in Nairobi. Milk and dairy were expensive in the North Eastern and cheap in Nairobi. Oils and fats were expensive in Eastern and cheap in Coast. Pulses and nuts were expensive in Nairobi and cheap in Eastern. Vegetables and fruits were expensive in the North Eastern and cheap in Nairobi."
      ]
    },
    {
      "cell_type": "markdown",
      "metadata": {
        "id": "aLxmVUAXKXNI"
      },
      "source": [
        "###1.7 Recommendations."
      ]
    },
    {
      "cell_type": "markdown",
      "metadata": {
        "id": "6mAgHI4_KggG"
      },
      "source": [
        "It was noted that there was a drop in prices for some food categories such as pulses, oils and fats, cereals and tubers. It was also noted that there was an increase in prices for some food categories such as milk and dairy. Hence, Covid 19 affected food prices in Kenya during the period of study.\n",
        "\n",
        "Due to the changes in prices during the infection of Covid 19, we therefore recommend that Kenyans, producers, consumers, government agencies etc should put in place mechanisms and policies such as food security policy, price regulations etc that will cushion them in the event of another pandemic in future."
      ]
    }
  ]
}