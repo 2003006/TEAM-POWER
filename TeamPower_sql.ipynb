{
  "nbformat": 4,
  "nbformat_minor": 0,
  "metadata": {
    "colab": {
      "name": "TeamPower sql.ipynb",
      "provenance": [],
      "collapsed_sections": [],
      "authorship_tag": "ABX9TyNViTmf2e3kMi2X6cYi7JKU",
      "include_colab_link": true
    },
    "kernelspec": {
      "name": "python3",
      "display_name": "Python 3"
    },
    "language_info": {
      "name": "python"
    }
  },
  "cells": [
    {
      "cell_type": "markdown",
      "metadata": {
        "id": "view-in-github",
        "colab_type": "text"
      },
      "source": [
        "<a href=\"https://colab.research.google.com/github/2003006/TEAM-POWER/blob/main/TeamPower_sql.ipynb\" target=\"_parent\"><img src=\"https://colab.research.google.com/assets/colab-badge.svg\" alt=\"Open In Colab\"/></a>"
      ]
    },
    {
      "cell_type": "markdown",
      "metadata": {
        "id": "X07MWWf3Quuo"
      },
      "source": [
        "###1.0 Connecting to our database"
      ]
    },
    {
      "cell_type": "code",
      "metadata": {
        "colab": {
          "base_uri": "https://localhost:8080/",
          "height": 35
        },
        "id": "_sMVGmvbPKoQ",
        "outputId": "ea7e48f8-d81e-4b2b-e8a8-991a0e404c68"
      },
      "source": [
        "# We will first load the sql extension into our environment\n",
        "%load_ext sql\n",
        "\n",
        "# Then connect to our in memory sqlite database\n",
        "# NB: This database will cease to exist as soon as the database connection is closed. \n",
        "%sql sqlite://"
      ],
      "execution_count": null,
      "outputs": [
        {
          "output_type": "execute_result",
          "data": {
            "application/vnd.google.colaboratory.intrinsic+json": {
              "type": "string"
            },
            "text/plain": [
              "'Connected: @None'"
            ]
          },
          "metadata": {
            "tags": []
          },
          "execution_count": 1
        }
      ]
    },
    {
      "cell_type": "markdown",
      "metadata": {
        "id": "tNzfC0KlRA_s"
      },
      "source": [
        "###1.1 Importing pandas from CSV"
      ]
    },
    {
      "cell_type": "code",
      "metadata": {
        "id": "csLlbwi1Q-4j"
      },
      "source": [
        "# Importing the pandas library\n",
        "# We will use a function read_csv from pandas to read our datasets as shown\n",
        "#\n",
        "import pandas as pd "
      ],
      "execution_count": null,
      "outputs": []
    },
    {
      "cell_type": "code",
      "metadata": {
        "id": "T9sKcRbURFqz"
      },
      "source": [
        "# Loading our table from the respective CSV files\n",
        "# We will export the dataset that we have cleaned using python\n",
        "#\n",
        "with open('/content/Kenya_Food_Prices.csv','r') as f:\n",
        "    prices = pd.read_csv(f, index_col=0, encoding='utf-8')"
      ],
      "execution_count": null,
      "outputs": []
    },
    {
      "cell_type": "markdown",
      "metadata": {
        "id": "IFBTN_SbbDM8"
      },
      "source": [
        "###1.3 Change date from object to datetime."
      ]
    },
    {
      "cell_type": "code",
      "metadata": {
        "id": "B_6KtBNKWfSX"
      },
      "source": [
        "#changing date from object to datetime datatype\n",
        "prices['date'] = pd.to_datetime(prices['date'])"
      ],
      "execution_count": null,
      "outputs": []
    },
    {
      "cell_type": "code",
      "metadata": {
        "colab": {
          "base_uri": "https://localhost:8080/"
        },
        "id": "KmaL1HpJWC3S",
        "outputId": "ca388d08-27b7-4ca4-88dc-2510e7177f21"
      },
      "source": [
        "#previwing information about out dataset\n",
        "prices.info()"
      ],
      "execution_count": null,
      "outputs": [
        {
          "output_type": "stream",
          "text": [
            "<class 'pandas.core.frame.DataFrame'>\n",
            "Int64Index: 7047 entries, 1 to 7047\n",
            "Data columns (total 13 columns):\n",
            " #   Column         Non-Null Count  Dtype         \n",
            "---  ------         --------------  -----         \n",
            " 0   date           7047 non-null   datetime64[ns]\n",
            " 1   item_name      7047 non-null   object        \n",
            " 2   unit           7047 non-null   object        \n",
            " 3   category       7047 non-null   object        \n",
            " 4   sh_price       7047 non-null   float64       \n",
            " 5   regions        7047 non-null   object        \n",
            " 6   region_id      7047 non-null   int64         \n",
            " 7   market_name    7047 non-null   object        \n",
            " 8   market_id      7047 non-null   float64       \n",
            " 9   item_code      7047 non-null   int64         \n",
            " 10  point_id       7047 non-null   float64       \n",
            " 11  category_id    7047 non-null   int64         \n",
            " 12  serial_number  7047 non-null   object        \n",
            "dtypes: datetime64[ns](1), float64(3), int64(3), object(6)\n",
            "memory usage: 770.8+ KB\n"
          ],
          "name": "stdout"
        }
      ]
    },
    {
      "cell_type": "code",
      "metadata": {
        "colab": {
          "base_uri": "https://localhost:8080/",
          "height": 205
        },
        "id": "zBNy5LeTV_52",
        "outputId": "62dd8873-30f1-4fa6-c03b-95f04acca89d"
      },
      "source": [
        "#persisting and viewing 5 rows of our dataset\n",
        "%sql DROP TABLE if EXISTS prices;\n",
        "%sql PERSIST prices;\n",
        "%sql SELECT * FROM prices LIMIT 5;"
      ],
      "execution_count": null,
      "outputs": [
        {
          "output_type": "stream",
          "text": [
            " * sqlite://\n",
            "Done.\n",
            " * sqlite://\n",
            " * sqlite://\n",
            "Done.\n"
          ],
          "name": "stdout"
        },
        {
          "output_type": "execute_result",
          "data": {
            "text/html": [
              "<table>\n",
              "    <thead>\n",
              "        <tr>\n",
              "            <th>index</th>\n",
              "            <th>date</th>\n",
              "            <th>item_name</th>\n",
              "            <th>unit</th>\n",
              "            <th>category</th>\n",
              "            <th>sh_price</th>\n",
              "            <th>regions</th>\n",
              "            <th>region_id</th>\n",
              "            <th>market_name</th>\n",
              "            <th>market_id</th>\n",
              "            <th>item_code</th>\n",
              "            <th>point_id</th>\n",
              "            <th>category_id</th>\n",
              "            <th>serial_number</th>\n",
              "        </tr>\n",
              "    </thead>\n",
              "    <tbody>\n",
              "        <tr>\n",
              "            <td>1</td>\n",
              "            <td>2006-01-15 00:00:00.000000</td>\n",
              "            <td>Beans - Wholesale</td>\n",
              "            <td>KG</td>\n",
              "            <td>pulses and nuts</td>\n",
              "            <td>33.63</td>\n",
              "            <td>Coast</td>\n",
              "            <td>51326</td>\n",
              "            <td>Mombasa</td>\n",
              "            <td>191.0</td>\n",
              "            <td>50</td>\n",
              "            <td>14.0</td>\n",
              "            <td>5</td>\n",
              "            <td>191_50_14_5</td>\n",
              "        </tr>\n",
              "        <tr>\n",
              "            <td>2</td>\n",
              "            <td>2006-02-15 00:00:00.000000</td>\n",
              "            <td>Beans - Wholesale</td>\n",
              "            <td>KG</td>\n",
              "            <td>pulses and nuts</td>\n",
              "            <td>39.478</td>\n",
              "            <td>Coast</td>\n",
              "            <td>51326</td>\n",
              "            <td>Mombasa</td>\n",
              "            <td>191.0</td>\n",
              "            <td>50</td>\n",
              "            <td>14.0</td>\n",
              "            <td>5</td>\n",
              "            <td>191_50_14_5</td>\n",
              "        </tr>\n",
              "        <tr>\n",
              "            <td>3</td>\n",
              "            <td>2006-03-15 00:00:00.000000</td>\n",
              "            <td>Beans - Wholesale</td>\n",
              "            <td>KG</td>\n",
              "            <td>pulses and nuts</td>\n",
              "            <td>44.68600000000001</td>\n",
              "            <td>Coast</td>\n",
              "            <td>51326</td>\n",
              "            <td>Mombasa</td>\n",
              "            <td>191.0</td>\n",
              "            <td>50</td>\n",
              "            <td>14.0</td>\n",
              "            <td>5</td>\n",
              "            <td>191_50_14_5</td>\n",
              "        </tr>\n",
              "        <tr>\n",
              "            <td>4</td>\n",
              "            <td>2006-04-15 00:00:00.000000</td>\n",
              "            <td>Beans - Wholesale</td>\n",
              "            <td>KG</td>\n",
              "            <td>pulses and nuts</td>\n",
              "            <td>43.836999999999996</td>\n",
              "            <td>Coast</td>\n",
              "            <td>51326</td>\n",
              "            <td>Mombasa</td>\n",
              "            <td>191.0</td>\n",
              "            <td>50</td>\n",
              "            <td>14.0</td>\n",
              "            <td>5</td>\n",
              "            <td>191_50_14_5</td>\n",
              "        </tr>\n",
              "        <tr>\n",
              "            <td>5</td>\n",
              "            <td>2006-05-15 00:00:00.000000</td>\n",
              "            <td>Beans - Wholesale</td>\n",
              "            <td>KG</td>\n",
              "            <td>pulses and nuts</td>\n",
              "            <td>39.734</td>\n",
              "            <td>Coast</td>\n",
              "            <td>51326</td>\n",
              "            <td>Mombasa</td>\n",
              "            <td>191.0</td>\n",
              "            <td>50</td>\n",
              "            <td>14.0</td>\n",
              "            <td>5</td>\n",
              "            <td>191_50_14_5</td>\n",
              "        </tr>\n",
              "    </tbody>\n",
              "</table>"
            ],
            "text/plain": [
              "[(1, '2006-01-15 00:00:00.000000', 'Beans - Wholesale', 'KG', 'pulses and nuts', 33.63, 'Coast', 51326, 'Mombasa', 191.0, 50, 14.0, 5, '191_50_14_5'),\n",
              " (2, '2006-02-15 00:00:00.000000', 'Beans - Wholesale', 'KG', 'pulses and nuts', 39.478, 'Coast', 51326, 'Mombasa', 191.0, 50, 14.0, 5, '191_50_14_5'),\n",
              " (3, '2006-03-15 00:00:00.000000', 'Beans - Wholesale', 'KG', 'pulses and nuts', 44.68600000000001, 'Coast', 51326, 'Mombasa', 191.0, 50, 14.0, 5, '191_50_14_5'),\n",
              " (4, '2006-04-15 00:00:00.000000', 'Beans - Wholesale', 'KG', 'pulses and nuts', 43.836999999999996, 'Coast', 51326, 'Mombasa', 191.0, 50, 14.0, 5, '191_50_14_5'),\n",
              " (5, '2006-05-15 00:00:00.000000', 'Beans - Wholesale', 'KG', 'pulses and nuts', 39.734, 'Coast', 51326, 'Mombasa', 191.0, 50, 14.0, 5, '191_50_14_5')]"
            ]
          },
          "metadata": {
            "tags": []
          },
          "execution_count": 6
        }
      ]
    },
    {
      "cell_type": "markdown",
      "metadata": {
        "id": "R0Bbzk1HRqjU"
      },
      "source": [
        "###1.4 Data Analysis"
      ]
    },
    {
      "cell_type": "markdown",
      "metadata": {
        "id": "atLNXVCQRs9U"
      },
      "source": [
        "####1)To find out the average food prices per category from March 2020 (beginning of the Covid19 Pandemic) to February 2021.\n"
      ]
    },
    {
      "cell_type": "code",
      "metadata": {
        "colab": {
          "base_uri": "https://localhost:8080/",
          "height": 208
        },
        "id": "fVcasIlaR3dV",
        "outputId": "ae66ac4f-6984-4b2c-d504-bae63c272ddd"
      },
      "source": [
        "%%sql\n",
        "select category, avg(sh_price) from prices\n",
        "where date <= '2021-02-15' and date >= '2020-03-01' \n",
        "group by category"
      ],
      "execution_count": null,
      "outputs": [
        {
          "output_type": "stream",
          "text": [
            " * sqlite://\n",
            "Done.\n"
          ],
          "name": "stdout"
        },
        {
          "output_type": "execute_result",
          "data": {
            "text/html": [
              "<table>\n",
              "    <thead>\n",
              "        <tr>\n",
              "            <th>category</th>\n",
              "            <th>avg(sh_price)</th>\n",
              "        </tr>\n",
              "    </thead>\n",
              "    <tbody>\n",
              "        <tr>\n",
              "            <td>cereals and tubers</td>\n",
              "            <td>249.00408781725892</td>\n",
              "        </tr>\n",
              "        <tr>\n",
              "            <td>meat, fish and eggs</td>\n",
              "            <td>470.76388333333335</td>\n",
              "        </tr>\n",
              "        <tr>\n",
              "            <td>milk and dairy</td>\n",
              "            <td>51.324761904761914</td>\n",
              "        </tr>\n",
              "        <tr>\n",
              "            <td>miscellaneous food</td>\n",
              "            <td>61.449996</td>\n",
              "        </tr>\n",
              "        <tr>\n",
              "            <td>non-food</td>\n",
              "            <td>88.80799999999998</td>\n",
              "        </tr>\n",
              "        <tr>\n",
              "            <td>oil and fats</td>\n",
              "            <td>163.10849655172413</td>\n",
              "        </tr>\n",
              "        <tr>\n",
              "            <td>pulses and nuts</td>\n",
              "            <td>724.5881357142856</td>\n",
              "        </tr>\n",
              "        <tr>\n",
              "            <td>vegetables and fruits</td>\n",
              "            <td>33.67156764705882</td>\n",
              "        </tr>\n",
              "    </tbody>\n",
              "</table>"
            ],
            "text/plain": [
              "[('cereals and tubers', 249.00408781725892),\n",
              " ('meat, fish and eggs', 470.76388333333335),\n",
              " ('milk and dairy', 51.324761904761914),\n",
              " ('miscellaneous food', 61.449996),\n",
              " ('non-food', 88.80799999999998),\n",
              " ('oil and fats', 163.10849655172413),\n",
              " ('pulses and nuts', 724.5881357142856),\n",
              " ('vegetables and fruits', 33.67156764705882)]"
            ]
          },
          "metadata": {
            "tags": []
          },
          "execution_count": 7
        }
      ]
    },
    {
      "cell_type": "markdown",
      "metadata": {
        "id": "lGmy6lJ4Xg1B"
      },
      "source": [
        "####2)To find ou average food price per category from 2006-01-15 to 2020-02-29"
      ]
    },
    {
      "cell_type": "code",
      "metadata": {
        "colab": {
          "base_uri": "https://localhost:8080/",
          "height": 156
        },
        "id": "YKEm9zTaSKnk",
        "outputId": "c2fef599-a213-4fd2-dc79-aa62bf5757fa"
      },
      "source": [
        "%%sql\n",
        "select category, avg(sh_price) from prices\n",
        "where date <= '2020-02-29' and date >= '2006-01-15' \n",
        "group by category"
      ],
      "execution_count": null,
      "outputs": [
        {
          "output_type": "stream",
          "text": [
            " * sqlite://\n",
            "Done.\n"
          ],
          "name": "stdout"
        },
        {
          "output_type": "execute_result",
          "data": {
            "text/html": [
              "<table>\n",
              "    <thead>\n",
              "        <tr>\n",
              "            <th>category</th>\n",
              "            <th>avg(sh_price)</th>\n",
              "        </tr>\n",
              "    </thead>\n",
              "    <tbody>\n",
              "        <tr>\n",
              "            <td>cereals and tubers</td>\n",
              "            <td>1437.742519624783</td>\n",
              "        </tr>\n",
              "        <tr>\n",
              "            <td>milk and dairy</td>\n",
              "            <td>36.70517857142857</td>\n",
              "        </tr>\n",
              "        <tr>\n",
              "            <td>non-food</td>\n",
              "            <td>90.25719298245613</td>\n",
              "        </tr>\n",
              "        <tr>\n",
              "            <td>oil and fats</td>\n",
              "            <td>181.65863095238095</td>\n",
              "        </tr>\n",
              "        <tr>\n",
              "            <td>pulses and nuts</td>\n",
              "            <td>2413.2615793122563</td>\n",
              "        </tr>\n",
              "    </tbody>\n",
              "</table>"
            ],
            "text/plain": [
              "[('cereals and tubers', 1437.742519624783),\n",
              " ('milk and dairy', 36.70517857142857),\n",
              " ('non-food', 90.25719298245613),\n",
              " ('oil and fats', 181.65863095238095),\n",
              " ('pulses and nuts', 2413.2615793122563)]"
            ]
          },
          "metadata": {
            "tags": []
          },
          "execution_count": 8
        }
      ]
    },
    {
      "cell_type": "markdown",
      "metadata": {
        "id": "GWDdAHL0YEul"
      },
      "source": [
        "####3)To find the average food prices per category from 2006-01-15 to 2021-02-15"
      ]
    },
    {
      "cell_type": "code",
      "metadata": {
        "colab": {
          "base_uri": "https://localhost:8080/",
          "height": 208
        },
        "id": "snOXLPH0X7da",
        "outputId": "9d586dad-5530-4e9e-f776-7be3637515df"
      },
      "source": [
        "%%sql\n",
        "select category, avg(sh_price) from prices\n",
        "where date <= '2021-02-15' and date >= '2006-01-15' \n",
        "group by category"
      ],
      "execution_count": null,
      "outputs": [
        {
          "output_type": "stream",
          "text": [
            " * sqlite://\n",
            "Done.\n"
          ],
          "name": "stdout"
        },
        {
          "output_type": "execute_result",
          "data": {
            "text/html": [
              "<table>\n",
              "    <thead>\n",
              "        <tr>\n",
              "            <th>category</th>\n",
              "            <th>avg(sh_price)</th>\n",
              "        </tr>\n",
              "    </thead>\n",
              "    <tbody>\n",
              "        <tr>\n",
              "            <td>cereals and tubers</td>\n",
              "            <td>1382.6150546845565</td>\n",
              "        </tr>\n",
              "        <tr>\n",
              "            <td>meat, fish and eggs</td>\n",
              "            <td>470.76388333333335</td>\n",
              "        </tr>\n",
              "        <tr>\n",
              "            <td>milk and dairy</td>\n",
              "            <td>38.32957671957672</td>\n",
              "        </tr>\n",
              "        <tr>\n",
              "            <td>miscellaneous food</td>\n",
              "            <td>61.449996</td>\n",
              "        </tr>\n",
              "        <tr>\n",
              "            <td>non-food</td>\n",
              "            <td>90.04089552238803</td>\n",
              "        </tr>\n",
              "        <tr>\n",
              "            <td>oil and fats</td>\n",
              "            <td>178.9279005076142</td>\n",
              "        </tr>\n",
              "        <tr>\n",
              "            <td>pulses and nuts</td>\n",
              "            <td>2362.3924492200103</td>\n",
              "        </tr>\n",
              "        <tr>\n",
              "            <td>vegetables and fruits</td>\n",
              "            <td>33.67156764705882</td>\n",
              "        </tr>\n",
              "    </tbody>\n",
              "</table>"
            ],
            "text/plain": [
              "[('cereals and tubers', 1382.6150546845565),\n",
              " ('meat, fish and eggs', 470.76388333333335),\n",
              " ('milk and dairy', 38.32957671957672),\n",
              " ('miscellaneous food', 61.449996),\n",
              " ('non-food', 90.04089552238803),\n",
              " ('oil and fats', 178.9279005076142),\n",
              " ('pulses and nuts', 2362.3924492200103),\n",
              " ('vegetables and fruits', 33.67156764705882)]"
            ]
          },
          "metadata": {
            "tags": []
          },
          "execution_count": 9
        }
      ]
    },
    {
      "cell_type": "markdown",
      "metadata": {
        "id": "PsawDxtYY2xb"
      },
      "source": [
        "####4)To find food prices per category in all regions a) Overall"
      ]
    },
    {
      "cell_type": "code",
      "metadata": {
        "colab": {
          "base_uri": "https://localhost:8080/",
          "height": 628
        },
        "id": "RMtozXvyYXfD",
        "outputId": "6ac841e3-71b1-42ee-a135-5ba618c18b15"
      },
      "source": [
        "%%sql\n",
        "select category, regions, avg(sh_price) from prices\n",
        "where date <= '2021-02-15' and date >= '2006-01-15' \n",
        "group by category,regions"
      ],
      "execution_count": null,
      "outputs": [
        {
          "output_type": "stream",
          "text": [
            " * sqlite://\n",
            "Done.\n"
          ],
          "name": "stdout"
        },
        {
          "output_type": "execute_result",
          "data": {
            "text/html": [
              "<table>\n",
              "    <thead>\n",
              "        <tr>\n",
              "            <th>category</th>\n",
              "            <th>regions</th>\n",
              "            <th>avg(sh_price)</th>\n",
              "        </tr>\n",
              "    </thead>\n",
              "    <tbody>\n",
              "        <tr>\n",
              "            <td>cereals and tubers</td>\n",
              "            <td>Coast</td>\n",
              "            <td>953.0321471092075</td>\n",
              "        </tr>\n",
              "        <tr>\n",
              "            <td>cereals and tubers</td>\n",
              "            <td>Eastern</td>\n",
              "            <td>1411.1817799373043</td>\n",
              "        </tr>\n",
              "        <tr>\n",
              "            <td>cereals and tubers</td>\n",
              "            <td>Nairobi</td>\n",
              "            <td>1519.5847608108106</td>\n",
              "        </tr>\n",
              "        <tr>\n",
              "            <td>cereals and tubers</td>\n",
              "            <td>North Eastern</td>\n",
              "            <td>58.39622713178294</td>\n",
              "        </tr>\n",
              "        <tr>\n",
              "            <td>cereals and tubers</td>\n",
              "            <td>Nyanza</td>\n",
              "            <td>1973.6664675384607</td>\n",
              "        </tr>\n",
              "        <tr>\n",
              "            <td>cereals and tubers</td>\n",
              "            <td>Rift Valley</td>\n",
              "            <td>1396.1455574610236</td>\n",
              "        </tr>\n",
              "        <tr>\n",
              "            <td>meat, fish and eggs</td>\n",
              "            <td>Nairobi</td>\n",
              "            <td>478.020825</td>\n",
              "        </tr>\n",
              "        <tr>\n",
              "            <td>meat, fish and eggs</td>\n",
              "            <td>North Eastern</td>\n",
              "            <td>462.5</td>\n",
              "        </tr>\n",
              "        <tr>\n",
              "            <td>meat, fish and eggs</td>\n",
              "            <td>Rift Valley</td>\n",
              "            <td>450.0</td>\n",
              "        </tr>\n",
              "        <tr>\n",
              "            <td>milk and dairy</td>\n",
              "            <td>Coast</td>\n",
              "            <td>50.0</td>\n",
              "        </tr>\n",
              "        <tr>\n",
              "            <td>milk and dairy</td>\n",
              "            <td>Nairobi</td>\n",
              "            <td>37.40049180327869</td>\n",
              "        </tr>\n",
              "        <tr>\n",
              "            <td>milk and dairy</td>\n",
              "            <td>North Eastern</td>\n",
              "            <td>90.0</td>\n",
              "        </tr>\n",
              "        <tr>\n",
              "            <td>milk and dairy</td>\n",
              "            <td>Rift Valley</td>\n",
              "            <td>70.0</td>\n",
              "        </tr>\n",
              "        <tr>\n",
              "            <td>miscellaneous food</td>\n",
              "            <td>Coast</td>\n",
              "            <td>62.49998333333334</td>\n",
              "        </tr>\n",
              "        <tr>\n",
              "            <td>miscellaneous food</td>\n",
              "            <td>Nairobi</td>\n",
              "            <td>65.0</td>\n",
              "        </tr>\n",
              "        <tr>\n",
              "            <td>miscellaneous food</td>\n",
              "            <td>North Eastern</td>\n",
              "            <td>47.8125</td>\n",
              "        </tr>\n",
              "        <tr>\n",
              "            <td>miscellaneous food</td>\n",
              "            <td>Rift Valley</td>\n",
              "            <td>64.16666666666667</td>\n",
              "        </tr>\n",
              "        <tr>\n",
              "            <td>non-food</td>\n",
              "            <td>Nairobi</td>\n",
              "            <td>90.04089552238803</td>\n",
              "        </tr>\n",
              "        <tr>\n",
              "            <td>oil and fats</td>\n",
              "            <td>Coast</td>\n",
              "            <td>162.49996666666667</td>\n",
              "        </tr>\n",
              "        <tr>\n",
              "            <td>oil and fats</td>\n",
              "            <td>Nairobi</td>\n",
              "            <td>179.41288494623652</td>\n",
              "        </tr>\n",
              "        <tr>\n",
              "            <td>oil and fats</td>\n",
              "            <td>North Eastern</td>\n",
              "            <td>154.0</td>\n",
              "        </tr>\n",
              "        <tr>\n",
              "            <td>oil and fats</td>\n",
              "            <td>Rift Valley</td>\n",
              "            <td>198.33333333333334</td>\n",
              "        </tr>\n",
              "        <tr>\n",
              "            <td>pulses and nuts</td>\n",
              "            <td>Coast</td>\n",
              "            <td>2351.5212250000013</td>\n",
              "        </tr>\n",
              "        <tr>\n",
              "            <td>pulses and nuts</td>\n",
              "            <td>Eastern</td>\n",
              "            <td>70.25855555555556</td>\n",
              "        </tr>\n",
              "        <tr>\n",
              "            <td>pulses and nuts</td>\n",
              "            <td>Nairobi</td>\n",
              "            <td>3106.095966129032</td>\n",
              "        </tr>\n",
              "        <tr>\n",
              "            <td>pulses and nuts</td>\n",
              "            <td>North Eastern</td>\n",
              "            <td>94.375</td>\n",
              "        </tr>\n",
              "        <tr>\n",
              "            <td>pulses and nuts</td>\n",
              "            <td>Nyanza</td>\n",
              "            <td>3221.2156435185184</td>\n",
              "        </tr>\n",
              "        <tr>\n",
              "            <td>pulses and nuts</td>\n",
              "            <td>Rift Valley</td>\n",
              "            <td>2229.5971239757196</td>\n",
              "        </tr>\n",
              "        <tr>\n",
              "            <td>vegetables and fruits</td>\n",
              "            <td>Coast</td>\n",
              "            <td>24.444444444444443</td>\n",
              "        </tr>\n",
              "        <tr>\n",
              "            <td>vegetables and fruits</td>\n",
              "            <td>Nairobi</td>\n",
              "            <td>23.041666666666668</td>\n",
              "        </tr>\n",
              "        <tr>\n",
              "            <td>vegetables and fruits</td>\n",
              "            <td>North Eastern</td>\n",
              "            <td>63.66666</td>\n",
              "        </tr>\n",
              "        <tr>\n",
              "            <td>vegetables and fruits</td>\n",
              "            <td>Rift Valley</td>\n",
              "            <td>41.25</td>\n",
              "        </tr>\n",
              "    </tbody>\n",
              "</table>"
            ],
            "text/plain": [
              "[('cereals and tubers', 'Coast', 953.0321471092075),\n",
              " ('cereals and tubers', 'Eastern', 1411.1817799373043),\n",
              " ('cereals and tubers', 'Nairobi', 1519.5847608108106),\n",
              " ('cereals and tubers', 'North Eastern', 58.39622713178294),\n",
              " ('cereals and tubers', 'Nyanza', 1973.6664675384607),\n",
              " ('cereals and tubers', 'Rift Valley', 1396.1455574610236),\n",
              " ('meat, fish and eggs', 'Nairobi', 478.020825),\n",
              " ('meat, fish and eggs', 'North Eastern', 462.5),\n",
              " ('meat, fish and eggs', 'Rift Valley', 450.0),\n",
              " ('milk and dairy', 'Coast', 50.0),\n",
              " ('milk and dairy', 'Nairobi', 37.40049180327869),\n",
              " ('milk and dairy', 'North Eastern', 90.0),\n",
              " ('milk and dairy', 'Rift Valley', 70.0),\n",
              " ('miscellaneous food', 'Coast', 62.49998333333334),\n",
              " ('miscellaneous food', 'Nairobi', 65.0),\n",
              " ('miscellaneous food', 'North Eastern', 47.8125),\n",
              " ('miscellaneous food', 'Rift Valley', 64.16666666666667),\n",
              " ('non-food', 'Nairobi', 90.04089552238803),\n",
              " ('oil and fats', 'Coast', 162.49996666666667),\n",
              " ('oil and fats', 'Nairobi', 179.41288494623652),\n",
              " ('oil and fats', 'North Eastern', 154.0),\n",
              " ('oil and fats', 'Rift Valley', 198.33333333333334),\n",
              " ('pulses and nuts', 'Coast', 2351.5212250000013),\n",
              " ('pulses and nuts', 'Eastern', 70.25855555555556),\n",
              " ('pulses and nuts', 'Nairobi', 3106.095966129032),\n",
              " ('pulses and nuts', 'North Eastern', 94.375),\n",
              " ('pulses and nuts', 'Nyanza', 3221.2156435185184),\n",
              " ('pulses and nuts', 'Rift Valley', 2229.5971239757196),\n",
              " ('vegetables and fruits', 'Coast', 24.444444444444443),\n",
              " ('vegetables and fruits', 'Nairobi', 23.041666666666668),\n",
              " ('vegetables and fruits', 'North Eastern', 63.66666),\n",
              " ('vegetables and fruits', 'Rift Valley', 41.25)]"
            ]
          },
          "metadata": {
            "tags": []
          },
          "execution_count": 10
        }
      ]
    },
    {
      "cell_type": "markdown",
      "metadata": {
        "id": "MBj-2g9cZ5y1"
      },
      "source": [
        "####5)To find food prices per category in all regions a) from 2006-01-15 to 2020-02-29"
      ]
    },
    {
      "cell_type": "code",
      "metadata": {
        "colab": {
          "base_uri": "https://localhost:8080/",
          "height": 313
        },
        "id": "TTQWXU5JZXNj",
        "outputId": "516c6ff0-e5e4-47bb-95f2-502bc20b34de"
      },
      "source": [
        "%%sql\n",
        "select category, regions, avg(sh_price) from prices\n",
        "where date <= '2020-02-29' and date >= '2006-01-15' \n",
        "group by category,regions"
      ],
      "execution_count": null,
      "outputs": [
        {
          "output_type": "stream",
          "text": [
            " * sqlite://\n",
            "Done.\n"
          ],
          "name": "stdout"
        },
        {
          "output_type": "execute_result",
          "data": {
            "text/html": [
              "<table>\n",
              "    <thead>\n",
              "        <tr>\n",
              "            <th>category</th>\n",
              "            <th>regions</th>\n",
              "            <th>avg(sh_price)</th>\n",
              "        </tr>\n",
              "    </thead>\n",
              "    <tbody>\n",
              "        <tr>\n",
              "            <td>cereals and tubers</td>\n",
              "            <td>Coast</td>\n",
              "            <td>1015.2225032258062</td>\n",
              "        </tr>\n",
              "        <tr>\n",
              "            <td>cereals and tubers</td>\n",
              "            <td>Eastern</td>\n",
              "            <td>1446.1274591572123</td>\n",
              "        </tr>\n",
              "        <tr>\n",
              "            <td>cereals and tubers</td>\n",
              "            <td>Nairobi</td>\n",
              "            <td>1585.0933626334515</td>\n",
              "        </tr>\n",
              "        <tr>\n",
              "            <td>cereals and tubers</td>\n",
              "            <td>North Eastern</td>\n",
              "            <td>56.703114035087715</td>\n",
              "        </tr>\n",
              "        <tr>\n",
              "            <td>cereals and tubers</td>\n",
              "            <td>Nyanza</td>\n",
              "            <td>1976.6323804314318</td>\n",
              "        </tr>\n",
              "        <tr>\n",
              "            <td>cereals and tubers</td>\n",
              "            <td>Rift Valley</td>\n",
              "            <td>1452.6807099218743</td>\n",
              "        </tr>\n",
              "        <tr>\n",
              "            <td>milk and dairy</td>\n",
              "            <td>Nairobi</td>\n",
              "            <td>36.70517857142857</td>\n",
              "        </tr>\n",
              "        <tr>\n",
              "            <td>non-food</td>\n",
              "            <td>Nairobi</td>\n",
              "            <td>90.25719298245613</td>\n",
              "        </tr>\n",
              "        <tr>\n",
              "            <td>oil and fats</td>\n",
              "            <td>Nairobi</td>\n",
              "            <td>181.65863095238095</td>\n",
              "        </tr>\n",
              "        <tr>\n",
              "            <td>pulses and nuts</td>\n",
              "            <td>Coast</td>\n",
              "            <td>2412.627523783785</td>\n",
              "        </tr>\n",
              "        <tr>\n",
              "            <td>pulses and nuts</td>\n",
              "            <td>Eastern</td>\n",
              "            <td>69.05023529411766</td>\n",
              "        </tr>\n",
              "        <tr>\n",
              "            <td>pulses and nuts</td>\n",
              "            <td>Nairobi</td>\n",
              "            <td>3138.3169095394733</td>\n",
              "        </tr>\n",
              "        <tr>\n",
              "            <td>pulses and nuts</td>\n",
              "            <td>Nyanza</td>\n",
              "            <td>3221.2156435185184</td>\n",
              "        </tr>\n",
              "        <tr>\n",
              "            <td>pulses and nuts</td>\n",
              "            <td>Rift Valley</td>\n",
              "            <td>2281.8546373228337</td>\n",
              "        </tr>\n",
              "    </tbody>\n",
              "</table>"
            ],
            "text/plain": [
              "[('cereals and tubers', 'Coast', 1015.2225032258062),\n",
              " ('cereals and tubers', 'Eastern', 1446.1274591572123),\n",
              " ('cereals and tubers', 'Nairobi', 1585.0933626334515),\n",
              " ('cereals and tubers', 'North Eastern', 56.703114035087715),\n",
              " ('cereals and tubers', 'Nyanza', 1976.6323804314318),\n",
              " ('cereals and tubers', 'Rift Valley', 1452.6807099218743),\n",
              " ('milk and dairy', 'Nairobi', 36.70517857142857),\n",
              " ('non-food', 'Nairobi', 90.25719298245613),\n",
              " ('oil and fats', 'Nairobi', 181.65863095238095),\n",
              " ('pulses and nuts', 'Coast', 2412.627523783785),\n",
              " ('pulses and nuts', 'Eastern', 69.05023529411766),\n",
              " ('pulses and nuts', 'Nairobi', 3138.3169095394733),\n",
              " ('pulses and nuts', 'Nyanza', 3221.2156435185184),\n",
              " ('pulses and nuts', 'Rift Valley', 2281.8546373228337)]"
            ]
          },
          "metadata": {
            "tags": []
          },
          "execution_count": 11
        }
      ]
    },
    {
      "cell_type": "markdown",
      "metadata": {
        "id": "ZbVHqZzpaleB"
      },
      "source": [
        "####6)To find food prices per category in all reqion a) from 2020-03-01 to 2021-02-15"
      ]
    },
    {
      "cell_type": "code",
      "metadata": {
        "colab": {
          "base_uri": "https://localhost:8080/",
          "height": 611
        },
        "id": "emlcdnvSa3jl",
        "outputId": "c01c8209-0f0e-45e4-ca31-5041b63ce048"
      },
      "source": [
        "%%sql\n",
        "select category, regions, avg(sh_price) from prices\n",
        "where date <= '2021-02-15' and date >= '2020-03-01' \n",
        "group by category,regions"
      ],
      "execution_count": null,
      "outputs": [
        {
          "output_type": "stream",
          "text": [
            " * sqlite://\n",
            "Done.\n"
          ],
          "name": "stdout"
        },
        {
          "output_type": "execute_result",
          "data": {
            "text/html": [
              "<table>\n",
              "    <thead>\n",
              "        <tr>\n",
              "            <th>category</th>\n",
              "            <th>regions</th>\n",
              "            <th>avg(sh_price)</th>\n",
              "        </tr>\n",
              "    </thead>\n",
              "    <tbody>\n",
              "        <tr>\n",
              "            <td>cereals and tubers</td>\n",
              "            <td>Coast</td>\n",
              "            <td>135.13473636363636</td>\n",
              "        </tr>\n",
              "        <tr>\n",
              "            <td>cereals and tubers</td>\n",
              "            <td>Eastern</td>\n",
              "            <td>384.44444285714286</td>\n",
              "        </tr>\n",
              "        <tr>\n",
              "            <td>cereals and tubers</td>\n",
              "            <td>Nairobi</td>\n",
              "            <td>292.39028666666667</td>\n",
              "        </tr>\n",
              "        <tr>\n",
              "            <td>cereals and tubers</td>\n",
              "            <td>North Eastern</td>\n",
              "            <td>71.26388666666666</td>\n",
              "        </tr>\n",
              "        <tr>\n",
              "            <td>cereals and tubers</td>\n",
              "            <td>Nyanza</td>\n",
              "            <td>48.788999999999994</td>\n",
              "        </tr>\n",
              "        <tr>\n",
              "            <td>cereals and tubers</td>\n",
              "            <td>Rift Valley</td>\n",
              "            <td>316.0710029850747</td>\n",
              "        </tr>\n",
              "        <tr>\n",
              "            <td>meat, fish and eggs</td>\n",
              "            <td>Nairobi</td>\n",
              "            <td>478.020825</td>\n",
              "        </tr>\n",
              "        <tr>\n",
              "            <td>meat, fish and eggs</td>\n",
              "            <td>North Eastern</td>\n",
              "            <td>462.5</td>\n",
              "        </tr>\n",
              "        <tr>\n",
              "            <td>meat, fish and eggs</td>\n",
              "            <td>Rift Valley</td>\n",
              "            <td>450.0</td>\n",
              "        </tr>\n",
              "        <tr>\n",
              "            <td>milk and dairy</td>\n",
              "            <td>Coast</td>\n",
              "            <td>50.0</td>\n",
              "        </tr>\n",
              "        <tr>\n",
              "            <td>milk and dairy</td>\n",
              "            <td>Nairobi</td>\n",
              "            <td>45.187999999999995</td>\n",
              "        </tr>\n",
              "        <tr>\n",
              "            <td>milk and dairy</td>\n",
              "            <td>North Eastern</td>\n",
              "            <td>90.0</td>\n",
              "        </tr>\n",
              "        <tr>\n",
              "            <td>milk and dairy</td>\n",
              "            <td>Rift Valley</td>\n",
              "            <td>70.0</td>\n",
              "        </tr>\n",
              "        <tr>\n",
              "            <td>miscellaneous food</td>\n",
              "            <td>Coast</td>\n",
              "            <td>62.49998333333334</td>\n",
              "        </tr>\n",
              "        <tr>\n",
              "            <td>miscellaneous food</td>\n",
              "            <td>Nairobi</td>\n",
              "            <td>65.0</td>\n",
              "        </tr>\n",
              "        <tr>\n",
              "            <td>miscellaneous food</td>\n",
              "            <td>North Eastern</td>\n",
              "            <td>47.8125</td>\n",
              "        </tr>\n",
              "        <tr>\n",
              "            <td>miscellaneous food</td>\n",
              "            <td>Rift Valley</td>\n",
              "            <td>64.16666666666667</td>\n",
              "        </tr>\n",
              "        <tr>\n",
              "            <td>non-food</td>\n",
              "            <td>Nairobi</td>\n",
              "            <td>88.80799999999998</td>\n",
              "        </tr>\n",
              "        <tr>\n",
              "            <td>oil and fats</td>\n",
              "            <td>Coast</td>\n",
              "            <td>162.49996666666667</td>\n",
              "        </tr>\n",
              "        <tr>\n",
              "            <td>oil and fats</td>\n",
              "            <td>Nairobi</td>\n",
              "            <td>158.4525888888889</td>\n",
              "        </tr>\n",
              "        <tr>\n",
              "            <td>oil and fats</td>\n",
              "            <td>North Eastern</td>\n",
              "            <td>154.0</td>\n",
              "        </tr>\n",
              "        <tr>\n",
              "            <td>oil and fats</td>\n",
              "            <td>Rift Valley</td>\n",
              "            <td>198.33333333333334</td>\n",
              "        </tr>\n",
              "        <tr>\n",
              "            <td>pulses and nuts</td>\n",
              "            <td>Coast</td>\n",
              "            <td>736.5690428571427</td>\n",
              "        </tr>\n",
              "        <tr>\n",
              "            <td>pulses and nuts</td>\n",
              "            <td>Eastern</td>\n",
              "            <td>90.8</td>\n",
              "        </tr>\n",
              "        <tr>\n",
              "            <td>pulses and nuts</td>\n",
              "            <td>Nairobi</td>\n",
              "            <td>1473.5681666666667</td>\n",
              "        </tr>\n",
              "        <tr>\n",
              "            <td>pulses and nuts</td>\n",
              "            <td>North Eastern</td>\n",
              "            <td>94.375</td>\n",
              "        </tr>\n",
              "        <tr>\n",
              "            <td>pulses and nuts</td>\n",
              "            <td>Rift Valley</td>\n",
              "            <td>846.9504166666667</td>\n",
              "        </tr>\n",
              "        <tr>\n",
              "            <td>vegetables and fruits</td>\n",
              "            <td>Coast</td>\n",
              "            <td>24.444444444444443</td>\n",
              "        </tr>\n",
              "        <tr>\n",
              "            <td>vegetables and fruits</td>\n",
              "            <td>Nairobi</td>\n",
              "            <td>23.041666666666668</td>\n",
              "        </tr>\n",
              "        <tr>\n",
              "            <td>vegetables and fruits</td>\n",
              "            <td>North Eastern</td>\n",
              "            <td>63.66666</td>\n",
              "        </tr>\n",
              "        <tr>\n",
              "            <td>vegetables and fruits</td>\n",
              "            <td>Rift Valley</td>\n",
              "            <td>41.25</td>\n",
              "        </tr>\n",
              "    </tbody>\n",
              "</table>"
            ],
            "text/plain": [
              "[('cereals and tubers', 'Coast', 135.13473636363636),\n",
              " ('cereals and tubers', 'Eastern', 384.44444285714286),\n",
              " ('cereals and tubers', 'Nairobi', 292.39028666666667),\n",
              " ('cereals and tubers', 'North Eastern', 71.26388666666666),\n",
              " ('cereals and tubers', 'Nyanza', 48.788999999999994),\n",
              " ('cereals and tubers', 'Rift Valley', 316.0710029850747),\n",
              " ('meat, fish and eggs', 'Nairobi', 478.020825),\n",
              " ('meat, fish and eggs', 'North Eastern', 462.5),\n",
              " ('meat, fish and eggs', 'Rift Valley', 450.0),\n",
              " ('milk and dairy', 'Coast', 50.0),\n",
              " ('milk and dairy', 'Nairobi', 45.187999999999995),\n",
              " ('milk and dairy', 'North Eastern', 90.0),\n",
              " ('milk and dairy', 'Rift Valley', 70.0),\n",
              " ('miscellaneous food', 'Coast', 62.49998333333334),\n",
              " ('miscellaneous food', 'Nairobi', 65.0),\n",
              " ('miscellaneous food', 'North Eastern', 47.8125),\n",
              " ('miscellaneous food', 'Rift Valley', 64.16666666666667),\n",
              " ('non-food', 'Nairobi', 88.80799999999998),\n",
              " ('oil and fats', 'Coast', 162.49996666666667),\n",
              " ('oil and fats', 'Nairobi', 158.4525888888889),\n",
              " ('oil and fats', 'North Eastern', 154.0),\n",
              " ('oil and fats', 'Rift Valley', 198.33333333333334),\n",
              " ('pulses and nuts', 'Coast', 736.5690428571427),\n",
              " ('pulses and nuts', 'Eastern', 90.8),\n",
              " ('pulses and nuts', 'Nairobi', 1473.5681666666667),\n",
              " ('pulses and nuts', 'North Eastern', 94.375),\n",
              " ('pulses and nuts', 'Rift Valley', 846.9504166666667),\n",
              " ('vegetables and fruits', 'Coast', 24.444444444444443),\n",
              " ('vegetables and fruits', 'Nairobi', 23.041666666666668),\n",
              " ('vegetables and fruits', 'North Eastern', 63.66666),\n",
              " ('vegetables and fruits', 'Rift Valley', 41.25)]"
            ]
          },
          "metadata": {
            "tags": []
          },
          "execution_count": 12
        }
      ]
    },
    {
      "cell_type": "markdown",
      "metadata": {
        "id": "oXadp8OvIrOT"
      },
      "source": [
        "###1.5 Conclusions."
      ]
    },
    {
      "cell_type": "markdown",
      "metadata": {
        "id": "-0jOqG8pIzUh"
      },
      "source": [
        "Average food prices per category from March 1, 2020 to February 15, 2021 (After Covid 19)\n",
        "After Covid 19 pandemic, in March 2020, it was noted that the category with the highest prices were pulses and nuts while vegetables and fruits category were the cheapest.\n",
        "\n",
        "Average food prices per category from January 15, 2006 to February 29, 2020 (Before Covid 19)\n",
        "It was noted that before Covid 19, the prices for nuts and pulses were high. The category of Milk and dairy had lower prices. \n",
        "\n",
        "Average food prices overall (January 15, 2006 to February 15, 2021)\n",
        "Overally, the category of pulses and nuts were expensive and the cheapest category was ‘vegetable and fruits’. \n",
        "\n",
        "Food prices per category in all regions:\n",
        "Overall\n",
        "Analysis done on food prices per category in all regions indicated that the category of cereals and tubers were expensive in Nyanza and cheapest in North Eastern. For the case of meat, fish and eggs  they were cheap in RiftValley region and expensive in Nairobi region. Milk and dairy were expensive in the North Eastern region and cheap in Nairobi. Oil and fats were expensive in Eastern and cheap in Coast. Pulses and nuts were expensive in Nyanza and cheap in Eastern. Vegetables and fruits were expensive in the North Eastern region and cheap in Nairobi.\n",
        "\n",
        "The food price per category in all region from January 15, 2006 to February 29, 2020\n",
        "Cereals and tubers were expensive in Nyanza and cheap in the North Eastern. The prices for milk and dairy were only reported in Nairobi. It was also noted that the prices for oils and fats category were only reported in the Nairobi region. Pulses and nuts were expensive in Nyanza and cheap in Eastern.\n",
        "\n",
        "Food price per category in all regions from March 1, 2020 to February 15, 2021\n",
        "Cereals and tubers were expensive in Eastern, cheap in Nyanza. Meat, fish and eggs were cheap in RiftValley and expensive in Nairobi. Milk and dairy were expensive in the North Eastern and cheap in Nairobi. Oils and fats were expensive in Eastern and cheap in Coast. Pulses and nuts were expensive in Nairobi and cheap in Eastern. Vegetables and fruits were expensive in the North Eastern and cheap in Nairobi."
      ]
    },
    {
      "cell_type": "markdown",
      "metadata": {
        "id": "YaUe48I7JK7c"
      },
      "source": [
        "###1.6 Recommendations."
      ]
    },
    {
      "cell_type": "markdown",
      "metadata": {
        "id": "fBK7r1qwJZeK"
      },
      "source": [
        "It was noted that there was a drop in prices for some food categories such as pulses, oils and fats, cereals and tubers. It was also noted that there was an increase in prices for some food categories such as milk and dairy. Hence, Covid 19 affected food prices in Kenya during the period of study.\n",
        "\n",
        "Due to the changes in prices during the infection of Covid 19, we therefore recommend that Kenyans, producers, consumers, government agencies etc should put in place mechanisms and policies such as food security policy, price regulations etc that will cushion them in the event of another pandemic in future."
      ]
    },
    {
      "cell_type": "markdown",
      "metadata": {
        "id": "MiyZo0FqJgAu"
      },
      "source": [
        ""
      ]
    }
  ]
}